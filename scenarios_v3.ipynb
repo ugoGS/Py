{
  "cells": [
    {
      "cell_type": "markdown",
      "metadata": {
        "id": "view-in-github",
        "colab_type": "text"
      },
      "source": [
        "<a href=\"https://colab.research.google.com/github/ugoGS/Py/blob/main/scenarios_v3.ipynb\" target=\"_parent\"><img src=\"https://colab.research.google.com/assets/colab-badge.svg\" alt=\"Open In Colab\"/></a>"
      ]
    },
    {
      "cell_type": "markdown",
      "metadata": {
        "id": "dqljRsFY2-D9"
      },
      "source": [
        "# Initial configurations for Google Colab and Spark"
      ]
    },
    {
      "cell_type": "code",
      "execution_count": 1,
      "metadata": {
        "colab": {
          "base_uri": "https://localhost:8080/"
        },
        "id": "9O8RnFSk3LxX",
        "outputId": "e546ffd8-b675-49a5-83fd-2ead8efe3789"
      },
      "outputs": [
        {
          "output_type": "stream",
          "name": "stdout",
          "text": [
            "Mounted at /content/drive\n"
          ]
        }
      ],
      "source": [
        "from google.colab import drive\n",
        "drive.mount('/content/drive')"
      ]
    },
    {
      "cell_type": "markdown",
      "metadata": {
        "id": "XiYv7ILndxOc"
      },
      "source": [
        "#Colab Config"
      ]
    },
    {
      "cell_type": "code",
      "execution_count": 2,
      "metadata": {
        "colab": {
          "base_uri": "https://localhost:8080/"
        },
        "id": "sDvkBx5ddyrx",
        "outputId": "9dc9a776-5324-420e-e6ab-ca4df33e7d72"
      },
      "outputs": [
        {
          "output_type": "stream",
          "name": "stdout",
          "text": [
            "Requirement already satisfied: pyspark in /usr/local/lib/python3.11/dist-packages (3.5.4)\n",
            "Requirement already satisfied: py4j==0.10.9.7 in /usr/local/lib/python3.11/dist-packages (from pyspark) (0.10.9.7)\n"
          ]
        }
      ],
      "source": [
        "!apt-get install openjdk-8-jdk-headless -qq > /dev/null\n",
        "!pip install pyspark\n",
        "!pip install -q findspark"
      ]
    },
    {
      "cell_type": "code",
      "execution_count": 3,
      "metadata": {
        "colab": {
          "base_uri": "https://localhost:8080/"
        },
        "id": "pPoIy0OAd1aO",
        "outputId": "b61a4ed4-0403-4a56-de29-e077fcb6e082"
      },
      "outputs": [
        {
          "output_type": "stream",
          "name": "stdout",
          "text": [
            "Findspark configuration completed\n"
          ]
        }
      ],
      "source": [
        "import sys\n",
        "\n",
        "sys.path.append('/content/drive/MyDrive/Colab Notebooks/GEMP/config/')\n",
        "import setup_colab\n",
        "setup_colab.setup_spark()"
      ]
    },
    {
      "cell_type": "markdown",
      "metadata": {
        "id": "-vrNZs4Sd3cj"
      },
      "source": [
        "#Create Spark Session & Import Libraries"
      ]
    },
    {
      "cell_type": "code",
      "execution_count": 4,
      "metadata": {
        "id": "EhrG5TOFTPIF"
      },
      "outputs": [],
      "source": [
        "import findspark\n",
        "import pandas as pd\n",
        "import json\n",
        "import os\n",
        "import time\n",
        "import shutil\n",
        "import traceback\n",
        "\n",
        "from pyspark.sql import SparkSession\n",
        "from pyspark.sql.functions import regexp_extract, col, lit, concat_ws, when, length, asc, desc, monotonically_increasing_id, to_date, trim, date_format, expr, lower, upper, concat, date_format\n",
        "from pyspark.sql.types import StructType, StructField, StringType, IntegerType, LongType, DateType, TimestampType\n",
        "from pyspark.sql import functions as F\n",
        "from datetime import datetime\n",
        "\n",
        "spark = SparkSession.builder.appName(\"Data Integrator\").getOrCreate()\n",
        "spark.conf.set(\"spark.sql.debug.maxToStringFields\", 1000)"
      ]
    },
    {
      "cell_type": "markdown",
      "metadata": {
        "id": "H5bzz_5zeCuT"
      },
      "source": [
        "#Functions"
      ]
    },
    {
      "cell_type": "code",
      "execution_count": 33,
      "metadata": {
        "id": "9YvDAW26UAO6",
        "colab": {
          "base_uri": "https://localhost:8080/"
        },
        "outputId": "fd83be51-2b1f-427e-c54c-39654e1d3e9c"
      },
      "outputs": [
        {
          "output_type": "stream",
          "name": "stdout",
          "text": [
            "functions_related_to_partitions: 1.1\n",
            "schema_definitions_v1: 1.2\n"
          ]
        }
      ],
      "source": [
        "%run \"/content/drive/MyDrive/Colab Notebooks/GEMP/functions/functions_related_to_partitions.ipynb\"\n",
        "%run \"/content/drive/MyDrive/Colab Notebooks/GEMP/functions/LSMW_Scripts_functions.ipynb\"\n",
        "%run \"/content/drive/MyDrive/Colab Notebooks/GEMP/functions/schema_definitions_v1.ipynb\"\n",
        "%run \"/content/drive/MyDrive/Colab Notebooks/GEMP/notebooks/lsmw_export/generate_csv.ipynb\""
      ]
    },
    {
      "cell_type": "markdown",
      "metadata": {
        "id": "YogUXGWWgCun"
      },
      "source": [
        "#Global Variables"
      ]
    },
    {
      "cell_type": "code",
      "execution_count": 25,
      "metadata": {
        "id": "QKdJCDl4gB0S"
      },
      "outputs": [],
      "source": [
        "process_datetime = int(datetime.now().strftime('%Y%m%d%H%M%S'))\n",
        "\n",
        "# GEMP environment\n",
        "# landing_path = \"/content/drive/MyDrive/Colab Notebooks/GEMP/data/landing\"\n",
        "# raw_path = \"/content/drive/MyDrive/Colab Notebooks/GEMP/data/raw\"\n",
        "trusted_path = \"/content/drive/MyDrive/Colab Notebooks/GEMP/data/trusted\"\n",
        "# # provisoriamente estamos utilizando el path de raw como origen para pasar datos a trusted\n",
        "# transient_path = \"/content/drive/MyDrive/Colab Notebooks/GEMP/data/raw\"\n",
        "# refined_path = \"/content/drive/MyDrive/Colab Notebooks/GEMP/data/refined/\"\n",
        "# logs_path = \"/content/drive/MyDrive/Colab Notebooks/GEMP/data/logs/\"\n",
        "\n",
        "# local environment\n",
        "raw_path = \"/content/data_lake/raw\"\n",
        "transient_path = \"/content/data_lake/raw\"\n",
        "#trusted_path = \"/content/data_lake/trusted\"\n",
        "refined_path = \"/content/data_lake/refined/\"\n",
        "logs_path = \"/content/data_lake/logs/\"\n",
        "delivery_path = \"/content/data_lake/delivery\"\n",
        "\n"
      ]
    },
    {
      "cell_type": "markdown",
      "metadata": {
        "id": "wlfYhnXG4pFc"
      },
      "source": [
        "#Get files from trusted zone"
      ]
    },
    {
      "cell_type": "code",
      "execution_count": 7,
      "metadata": {
        "id": "UPxkvZzkBd7H"
      },
      "outputs": [],
      "source": [
        "df_main_template_trusted = get_df_last_partition(trusted_path, \"main_template\", \"process_datetime\")\n",
        "df_sap_updates_trusted = get_df_last_partition(trusted_path, \"sap_updates\", \"process_datetime\")\n",
        "df_gis_updates_trusted = get_df_last_partition(trusted_path, \"gis_updates\", \"process_datetime\")\n",
        "df_sap_equipment_report_trusted = get_df_last_partition(trusted_path, \"sap_equipment_report\", \"process_datetime\")\n"
      ]
    },
    {
      "cell_type": "markdown",
      "metadata": {
        "id": "wyxae0_Bn8-_"
      },
      "source": [
        "#Dummy data (Add columns directly to trusted df for testing)"
      ]
    },
    {
      "cell_type": "code",
      "execution_count": null,
      "metadata": {
        "id": "nnX6duyPn8Kr"
      },
      "outputs": [],
      "source": [
        "#Create a dummy rows\n",
        "from pyspark.sql import Row\n",
        "\n",
        "dummy_data = [\n",
        "  Row(object_type=\"UE_CAPSG\",\n",
        "      type_of_sap_update=\"Add Equipment\",\n",
        "      sap_discrepancy=\"Equipment found in Field, not in SAP\",\n",
        "      additional_object_type_notes=None,\n",
        "      floc=\"9301-L0576-1521-0004-ED00009\",\n",
        "      floc_description=\"COLDEN T     -1050         -15\",\n",
        "      description_of_object_type=\"CAPACITOR, DIST, 1PH, 7200V, 150KVAR, 2\",\n",
        "      sap_equipment_number=0,\n",
        "      cu_id=None,\n",
        "      cyme_id=None,\n",
        "      circuit_number=3105301,\n",
        "      nyseg_line_number=None,\n",
        "      equipment_category=\"K\",\n",
        "      mid=None,\n",
        "      sort_field_pole_number=\"PO=15\",\n",
        "      opco=\"NYSEG\",\n",
        "      address_number=None,\n",
        "      street=None,\n",
        "      city=\"BOSTON T\",\n",
        "      state=None,\n",
        "      postal_code=None,\n",
        "      main_work_center=51000,\n",
        "      service_center=\"Lancaster Service Center\",\n",
        "      start_up_date=datetime.strptime(\"10/08/2018\", \"%d/%m/%Y\").date(),\n",
        "      system_status=\"INST\",\n",
        "      status_for_users=\"UNOP 4000\",\n",
        "      changed_on=datetime.strptime(\"10/08/2018\", \"%d/%m/%Y\").date(),\n",
        "      construction_year=2018,\n",
        "      construction_month=\"08\",\n",
        "      technical_id_work_order=\"801000000000\",\n",
        "      survey_date=datetime.strptime(\"10/08/2018\", \"%d/%m/%Y\").date(),\n",
        "      proxy_vert=None,\n",
        "      phantom_location=None,\n",
        "      long_text=None,\n",
        "      manufacturer=\"N/A\",\n",
        "      model_number=\"N/A\",\n",
        "      manufacturer_serial_number=\"N/A\",\n",
        "      nameplate_image_captured=None,\n",
        "      ue_capsg_capacitor_type=None,\n",
        "      ue_capsg_circuit_switch_number=None,\n",
        "      ue_capsg_kvar=None,\n",
        "      ue_capsg_nominal_voltage_rating=None,\n",
        "      ue_capsg_number_of_bushings=None,\n",
        "      ue_capsg_number_of_phases=None,\n",
        "      ue_capsg_public_or_private=None,\n",
        "      ue_capsg_scada_controlled=None,\n",
        "      ue_capsg_status=None,\n",
        "      ue_cbank_capacitor_type=None,\n",
        "      ue_cbank_circuit_switch_number=None,\n",
        "      ue_cbank_controlled=None,\n",
        "      ue_cbank_kvar_total=None,\n",
        "      ue_cbank_nominal_voltage_rating=None,\n",
        "      ue_cbank_number_of_capacitors=None,\n",
        "      ue_cbank_number_of_phases=None,\n",
        "      ue_cbank_public_or_private=None,\n",
        "      ue_cbank_scada_controlled=None,\n",
        "      ue_cbank_status=None,\n",
        "      ue_condr_conductor_length=None,\n",
        "      ue_condr_conductor_size=None,\n",
        "      ue_condr_conductor_type=None,\n",
        "      ue_condr_insulation_type=None,\n",
        "      ue_condr_neutral_material=None,\n",
        "      ue_condr_neutral_size=None,\n",
        "      ue_condr_nominal_voltage_rating=None,\n",
        "      ue_condr_location_oh_or_ug=None,\n",
        "      ue_condr_primary_or_secondary=None,\n",
        "      ue_condr_primary_conductor_material=None,\n",
        "      ue_condr_public_length=None,\n",
        "      ue_condr_public_or_private=None,\n",
        "      ue_condr_trailing_span_length=None,\n",
        "      ue_condr_trailing_span_location=None,\n",
        "      ue_condr_trans_or_dist=None,\n",
        "      ue_ctout_character_of_construction=None,\n",
        "      ue_ctout_cutout_rating=None,\n",
        "      ue_ctout_fuse_size=None,\n",
        "      ue_ctout_fuse_type=None,\n",
        "      ue_ctout_material=None,\n",
        "      ue_ctout_nominal_voltage_rating=None,\n",
        "      ue_ctout_phase=None,\n",
        "      ue_ctout_public_or_private=None,\n",
        "      ue_ctout_state=None,\n",
        "      ue_ctout_type=None,\n",
        "      ue_disc_amp_rating=None,\n",
        "      ue_disc_circuit_switch_number=None,\n",
        "      ue_disc_number_of_phases=None,\n",
        "      ue_disc_phase_designation=None,\n",
        "      ue_disc_public_or_private=None,\n",
        "      ue_disc_switch_style=None,\n",
        "      ue_disc_type=None,\n",
        "      ue_pole_circuit_phase_label=None,\n",
        "      ue_pole_class=None,\n",
        "      ue_pole_opco_owner_percent=None,\n",
        "      ue_pole_owner=None,\n",
        "      ue_pole_owner_maintained=None,\n",
        "      ue_pole_pole_length=None,\n",
        "      ue_pole_pole_material=None,\n",
        "      ue_pole_pole_number=None,\n",
        "      ue_pole_between_pole_number_since=None,\n",
        "      ue_pole_between_pole_number_to=None,\n",
        "      ue_pole_pole_type=None,\n",
        "      ue_pole_public_or_private=None,\n",
        "      ue_pole_trans_or_dist=None,\n",
        "      ue_pole_treatment=None,\n",
        "      ue_recl_circuit_switch_number=None,\n",
        "      ue_recl_number_of_phases=None,\n",
        "      ue_recl_public_or_private=None,\n",
        "      ue_recl_recloser_acts_as=None,\n",
        "      ue_recl_scada_controlled=None,\n",
        "      ue_recl_trans_or_dist=None,\n",
        "      ue_reg_circuit_switch_number=None,\n",
        "      ue_reg_kva=None,\n",
        "      ue_reg_phase_designation=None,\n",
        "      ue_reg_public_or_private=None,\n",
        "      ue_reg_scada_controlled=None,\n",
        "      ue_reg_status=None,\n",
        "      ue_sectz_circuit_switch_number=None,\n",
        "      ue_sectz_number_of_phases=None,\n",
        "      ue_sectz_public_or_private=None,\n",
        "      ue_sectz_scada_controlled=None,\n",
        "      ue_ratio_location_oh_or_ug=None,\n",
        "      ue_ratio_number_of_phases=None,\n",
        "      ue_ratio_operating_voltage=None,\n",
        "      ue_ratio_phase_designation=None,\n",
        "      ue_ratio_primary_voltage_text=None,\n",
        "      ue_ratio_public_or_private=None,\n",
        "      ue_ratio_secondary_voltage_text=None,\n",
        "      ue_ratio_size_kva=None,\n",
        "      ue_ratio_status=None,\n",
        "      ue_ratio_subtype_transformer_type=None,\n",
        "      ue_swtch_circuit_switch_number=None,\n",
        "      ue_swtch_load_break=None,\n",
        "      ue_swtch_normal_position=None,\n",
        "      ue_swtch_number_of_phases=None,\n",
        "      ue_swtch_operating_voltage=None,\n",
        "      ue_swtch_phase_designation=None,\n",
        "      ue_swtch_public_or_private=None,\n",
        "      ue_swtch_rated_kv=None,\n",
        "      ue_swtch_state=None,\n",
        "      ue_swtch_scada_controlled=None,\n",
        "      ue_swtch_switch_type=None,\n",
        "      ue_swtgr_amperage=None,\n",
        "      ue_swtgr_fuse_type=None,\n",
        "      ue_swtgr_circuit_switch_number=None,\n",
        "      ue_swtgr_installation_type=None,\n",
        "      ue_swtgr_loadbreak_capability=None,\n",
        "      ue_swtgr_nameplate=None,\n",
        "      ue_swtgr_nominal_voltage_rating=None,\n",
        "      ue_swtgr_public_or_private=None,\n",
        "      ue_swtgr_switchgear_distribution_type=None,\n",
        "      ue_swtgr_trans_or_dist=None,\n",
        "      ue_swtgr_year_installed=None,\n",
        "      ue_xfmer_date_retired_abandoned=None,\n",
        "      ue_xfmer_dual_voltage=None,\n",
        "      ue_xfmer_kva_rating=None,\n",
        "      ue_xfmer_location_oh_or_ug=None,\n",
        "      ue_xfmer_number_of_phases=None,\n",
        "      ue_xfmer_phase_designation=None,\n",
        "      ue_xfmer_primary_voltage_text=None,\n",
        "      ue_xfmer_public_or_private=None,\n",
        "      ue_xfmer_secondary_voltage=None,\n",
        "      ue_xfmer_secondary_voltage_text=None,\n",
        "      ue_xfmer_size_kva=None,\n",
        "      ue_xfmer_transformer_type=None,\n",
        "      ue_xfmer_trans_type=None,\n",
        "      ue_xfmer_year_installed=None,\n",
        "      ue_vaulp_foundation_material=None,\n",
        "      ue_vaulp_opco_owner_percent=None,\n",
        "      ue_vaulp_public_or_private=None,\n",
        "      ue_vaulp_tr_number=None,\n",
        "      ue_vaulp_trans_or_dist=None,\n",
        "      id=\"02_20241129192612_8589934608\",\n",
        "      process_datetime=20241129192612\n",
        "  ),\n",
        "  Row(object_type=\"UE_CAPSG\",\n",
        "      type_of_sap_update=\"Add Equipment\",\n",
        "      sap_discrepancy=\"Equipment found in Field, not in SAP\",\n",
        "      additional_object_type_notes=None,\n",
        "      floc=\"9301-L0576-1510-0014-ED00047\",\n",
        "      floc_description=\"BOSTON T -1038 -42\",\n",
        "      description_of_object_type=\"CAPACITOR, DIST, 1PH, 7200V, 150KVAR, 2\",\n",
        "      sap_equipment_number=0,\n",
        "      cu_id=None,\n",
        "      cyme_id=None,\n",
        "      circuit_number=3105301,\n",
        "      nyseg_line_number=None,\n",
        "      equipment_category=\"K\",\n",
        "      mid=None,\n",
        "      sort_field_pole_number=\"PO=15\",\n",
        "      opco=\"NYSEG\",\n",
        "      address_number=None,\n",
        "      street=None,\n",
        "      city=\"BOSTON T\",\n",
        "      state=None,\n",
        "      postal_code=None,\n",
        "      main_work_center=51000,\n",
        "      service_center=\"Lancaster Service Center\",\n",
        "      start_up_date=datetime.strptime(\"10/08/2018\", \"%d/%m/%Y\").date(),\n",
        "      system_status=\"INST\",\n",
        "      status_for_users=\"UNOP 4000\",\n",
        "      changed_on=datetime.strptime(\"10/08/2018\", \"%d/%m/%Y\").date(),\n",
        "      construction_year=2018,\n",
        "      construction_month=\"08\",\n",
        "      technical_id_work_order=\"801000000000\",\n",
        "      survey_date=datetime.strptime(\"10/08/2018\", \"%d/%m/%Y\").date(),\n",
        "      proxy_vert=None,\n",
        "      phantom_location=None,\n",
        "      long_text=None,\n",
        "      manufacturer=\"N/A\",\n",
        "      model_number=\"N/A\",\n",
        "      manufacturer_serial_number=\"N/A\",\n",
        "      nameplate_image_captured=None,\n",
        "      ue_capsg_capacitor_type=None,\n",
        "      ue_capsg_circuit_switch_number=None,\n",
        "      ue_capsg_kvar=None,\n",
        "      ue_capsg_nominal_voltage_rating=None,\n",
        "      ue_capsg_number_of_bushings=None,\n",
        "      ue_capsg_number_of_phases=None,\n",
        "      ue_capsg_public_or_private=None,\n",
        "      ue_capsg_scada_controlled=None,\n",
        "      ue_capsg_status=None,\n",
        "      ue_cbank_capacitor_type=None,\n",
        "      ue_cbank_circuit_switch_number=None,\n",
        "      ue_cbank_controlled=None,\n",
        "      ue_cbank_kvar_total=None,\n",
        "      ue_cbank_nominal_voltage_rating=None,\n",
        "      ue_cbank_number_of_capacitors=None,\n",
        "      ue_cbank_number_of_phases=None,\n",
        "      ue_cbank_public_or_private=None,\n",
        "      ue_cbank_scada_controlled=None,\n",
        "      ue_cbank_status=None,\n",
        "      ue_condr_conductor_length=None,\n",
        "      ue_condr_conductor_size=None,\n",
        "      ue_condr_conductor_type=None,\n",
        "      ue_condr_insulation_type=None,\n",
        "      ue_condr_neutral_material=None,\n",
        "      ue_condr_neutral_size=None,\n",
        "      ue_condr_nominal_voltage_rating=None,\n",
        "      ue_condr_location_oh_or_ug=None,\n",
        "      ue_condr_primary_or_secondary=None,\n",
        "      ue_condr_primary_conductor_material=None,\n",
        "      ue_condr_public_length=None,\n",
        "      ue_condr_public_or_private=None,\n",
        "      ue_condr_trailing_span_length=None,\n",
        "      ue_condr_trailing_span_location=None,\n",
        "      ue_condr_trans_or_dist=None,\n",
        "      ue_ctout_character_of_construction=None,\n",
        "      ue_ctout_cutout_rating=None,\n",
        "      ue_ctout_fuse_size=None,\n",
        "      ue_ctout_fuse_type=None,\n",
        "      ue_ctout_material=None,\n",
        "      ue_ctout_nominal_voltage_rating=None,\n",
        "      ue_ctout_phase=None,\n",
        "      ue_ctout_public_or_private=None,\n",
        "      ue_ctout_state=None,\n",
        "      ue_ctout_type=None,\n",
        "      ue_disc_amp_rating=None,\n",
        "      ue_disc_circuit_switch_number=None,\n",
        "      ue_disc_number_of_phases=None,\n",
        "      ue_disc_phase_designation=None,\n",
        "      ue_disc_public_or_private=None,\n",
        "      ue_disc_switch_style=None,\n",
        "      ue_disc_type=None,\n",
        "      ue_pole_circuit_phase_label=None,\n",
        "      ue_pole_class=None,\n",
        "      ue_pole_opco_owner_percent=None,\n",
        "      ue_pole_owner=None,\n",
        "      ue_pole_owner_maintained=None,\n",
        "      ue_pole_pole_length=None,\n",
        "      ue_pole_pole_material=None,\n",
        "      ue_pole_pole_number=None,\n",
        "      ue_pole_between_pole_number_since=None,\n",
        "      ue_pole_between_pole_number_to=None,\n",
        "      ue_pole_pole_type=None,\n",
        "      ue_pole_public_or_private=None,\n",
        "      ue_pole_trans_or_dist=None,\n",
        "      ue_pole_treatment=None,\n",
        "      ue_recl_circuit_switch_number=None,\n",
        "      ue_recl_number_of_phases=None,\n",
        "      ue_recl_public_or_private=None,\n",
        "      ue_recl_recloser_acts_as=None,\n",
        "      ue_recl_scada_controlled=None,\n",
        "      ue_recl_trans_or_dist=None,\n",
        "      ue_reg_circuit_switch_number=None,\n",
        "      ue_reg_kva=None,\n",
        "      ue_reg_phase_designation=None,\n",
        "      ue_reg_public_or_private=None,\n",
        "      ue_reg_scada_controlled=None,\n",
        "      ue_reg_status=None,\n",
        "      ue_sectz_circuit_switch_number=None,\n",
        "      ue_sectz_number_of_phases=None,\n",
        "      ue_sectz_public_or_private=None,\n",
        "      ue_sectz_scada_controlled=None,\n",
        "      ue_ratio_location_oh_or_ug=None,\n",
        "      ue_ratio_number_of_phases=None,\n",
        "      ue_ratio_operating_voltage=None,\n",
        "      ue_ratio_phase_designation=None,\n",
        "      ue_ratio_primary_voltage_text=None,\n",
        "      ue_ratio_public_or_private=None,\n",
        "      ue_ratio_secondary_voltage_text=None,\n",
        "      ue_ratio_size_kva=None,\n",
        "      ue_ratio_status=None,\n",
        "      ue_ratio_subtype_transformer_type=None,\n",
        "      ue_swtch_circuit_switch_number=None,\n",
        "      ue_swtch_load_break=None,\n",
        "      ue_swtch_normal_position=None,\n",
        "      ue_swtch_number_of_phases=None,\n",
        "      ue_swtch_operating_voltage=None,\n",
        "      ue_swtch_phase_designation=None,\n",
        "      ue_swtch_public_or_private=None,\n",
        "      ue_swtch_rated_kv=None,\n",
        "      ue_swtch_state=None,\n",
        "      ue_swtch_scada_controlled=None,\n",
        "      ue_swtch_switch_type=None,\n",
        "      ue_swtgr_amperage=None,\n",
        "      ue_swtgr_fuse_type=None,\n",
        "      ue_swtgr_circuit_switch_number=None,\n",
        "      ue_swtgr_installation_type=None,\n",
        "      ue_swtgr_loadbreak_capability=None,\n",
        "      ue_swtgr_nameplate=None,\n",
        "      ue_swtgr_nominal_voltage_rating=None,\n",
        "      ue_swtgr_public_or_private=None,\n",
        "      ue_swtgr_switchgear_distribution_type=None,\n",
        "      ue_swtgr_trans_or_dist=None,\n",
        "      ue_swtgr_year_installed=None,\n",
        "      ue_xfmer_date_retired_abandoned=None,\n",
        "      ue_xfmer_dual_voltage=None,\n",
        "      ue_xfmer_kva_rating=None,\n",
        "      ue_xfmer_location_oh_or_ug=None,\n",
        "      ue_xfmer_number_of_phases=None,\n",
        "      ue_xfmer_phase_designation=None,\n",
        "      ue_xfmer_primary_voltage_text=None,\n",
        "      ue_xfmer_public_or_private=None,\n",
        "      ue_xfmer_secondary_voltage=None,\n",
        "      ue_xfmer_secondary_voltage_text=None,\n",
        "      ue_xfmer_size_kva=None,\n",
        "      ue_xfmer_transformer_type=None,\n",
        "      ue_xfmer_trans_type=None,\n",
        "      ue_xfmer_year_installed=None,\n",
        "      ue_vaulp_foundation_material=None,\n",
        "      ue_vaulp_opco_owner_percent=None,\n",
        "      ue_vaulp_public_or_private=None,\n",
        "      ue_vaulp_tr_number=None,\n",
        "      ue_vaulp_trans_or_dist=None,\n",
        "      id=\"02_20241129192612_8589934609\",\n",
        "      process_datetime=20241129192612\n",
        "  )\n",
        "]\n",
        "\n",
        "dummy_df = spark.createDataFrame(dummy_data, schema_sap_updates_trusted)"
      ]
    },
    {
      "cell_type": "code",
      "source": [
        "df_sap_updates_trusted = df_sap_updates_trusted.union(dummy_df)"
      ],
      "metadata": {
        "id": "H6ZBikd6fJKp"
      },
      "execution_count": null,
      "outputs": []
    },
    {
      "cell_type": "markdown",
      "metadata": {
        "id": "ImcOtj0_IPoz"
      },
      "source": [
        "#UE_SWTCH - Scenario 2: Device Switch (UE_CTOTS) / Load Break Switch (UE_SWTCH)\n",
        "\n",
        "> Add blockquote\n",
        "\n",
        "\n"
      ]
    },
    {
      "cell_type": "code",
      "execution_count": null,
      "metadata": {
        "collapsed": true,
        "id": "xPsKOCsuu_rY",
        "colab": {
          "base_uri": "https://localhost:8080/"
        },
        "outputId": "cd16fc60-65cc-41b8-e9e6-a3eb7f661a22"
      },
      "outputs": [
        {
          "output_type": "stream",
          "name": "stdout",
          "text": [
            "+------------------+--------------------------------------+--------------------+-------+----------------+---------------------+-------------------------------------------------------------------------------------------------------------------------------------------------------------------+-----------+-------------+---------+----------------------+--------------------------+----------------+\n",
            "|id                |process_id                            |id_data             |state  |operation       |error_type           |error_desc                                                                                                                                                         |column_name|invalid_value|new_value|recipient             |date_time                 |process_datetime|\n",
            "+------------------+--------------------------------------+--------------------+-------+----------------+---------------------+-------------------------------------------------------------------------------------------------------------------------------------------------------------------+-----------+-------------+---------+----------------------+--------------------------+----------------+\n",
            "|202501271907010996|ue_swtch_02_sap_object_type_correction|02_20250121173807_2 |trusted|Modify Equipment|Incorrect Object Type|Object type from UE_SWTCH to UE_CTOTS for equipment 100017077123. LSMW File(s): ZIUSADISEQCHLOC_20250121173807.csv. LSMW File(s): ZIUSACREQWOREF_20250121173807.csv|object_type|UE_SWTCH     |UE_CTOTS |GEMP Field Survey Team|2025-01-27 19:07:01.996337|20250121173807  |\n",
            "|202501271907010999|ue_swtch_02_sap_object_type_correction|02_20250121173807_3 |trusted|Modify Equipment|Incorrect Object Type|Object type from UE_SWTCH to UE_CTOTS for equipment 100017077124. LSMW File(s): ZIUSADISEQCHLOC_20250121173807.csv. LSMW File(s): ZIUSACREQWOREF_20250121173807.csv|object_type|UE_SWTCH     |UE_CTOTS |GEMP Field Survey Team|2025-01-27 19:07:01.999507|20250121173807  |\n",
            "|202501271907020002|ue_swtch_02_sap_object_type_correction|02_20250121173807_4 |trusted|Modify Equipment|Incorrect Object Type|Object type from UE_SWTCH to UE_CTOTS for equipment 100017077125. LSMW File(s): ZIUSADISEQCHLOC_20250121173807.csv. LSMW File(s): ZIUSACREQWOREF_20250121173807.csv|object_type|UE_SWTCH     |UE_CTOTS |GEMP Field Survey Team|2025-01-27 19:07:02.002607|20250121173807  |\n",
            "|202501271907020004|ue_swtch_02_sap_object_type_correction|02_20250121173807_5 |trusted|Modify Equipment|Incorrect Object Type|Object type from UE_SWTCH to UE_CTOTS for equipment 100017077126. LSMW File(s): ZIUSADISEQCHLOC_20250121173807.csv. LSMW File(s): ZIUSACREQWOREF_20250121173807.csv|object_type|UE_SWTCH     |UE_CTOTS |GEMP Field Survey Team|2025-01-27 19:07:02.00449 |20250121173807  |\n",
            "|202501271907020005|ue_swtch_02_sap_object_type_correction|02_20250121173807_6 |trusted|Modify Equipment|Incorrect Object Type|Object type from UE_SWTCH to UE_CTOTS for equipment 100017077127. LSMW File(s): ZIUSADISEQCHLOC_20250121173807.csv. LSMW File(s): ZIUSACREQWOREF_20250121173807.csv|object_type|UE_SWTCH     |UE_CTOTS |GEMP Field Survey Team|2025-01-27 19:07:02.005764|20250121173807  |\n",
            "|202501271907020006|ue_swtch_02_sap_object_type_correction|02_20250121173807_7 |trusted|Modify Equipment|Incorrect Object Type|Object type from UE_SWTCH to UE_CTOTS for equipment 100017077128. LSMW File(s): ZIUSADISEQCHLOC_20250121173807.csv. LSMW File(s): ZIUSACREQWOREF_20250121173807.csv|object_type|UE_SWTCH     |UE_CTOTS |GEMP Field Survey Team|2025-01-27 19:07:02.007012|20250121173807  |\n",
            "|202501271907020009|ue_swtch_02_sap_object_type_correction|02_20250121173807_9 |trusted|Modify Equipment|Incorrect Object Type|Object type from UE_SWTCH to UE_DISC for equipment 100017077120. LSMW File(s): ZIUSADISEQCHLOC_20250121173807.csv. LSMW File(s): ZIUSACREQWOREF_20250121173807.csv |object_type|UE_SWTCH     |UE_DISC  |GEMP Field Survey Team|2025-01-27 19:07:02.009838|20250121173807  |\n",
            "|202501271907020011|ue_swtch_02_sap_object_type_correction|02_20250121173807_10|trusted|Modify Equipment|Incorrect Object Type|Object type from UE_SWTCH to UE_DISC for equipment 100017077121. LSMW File(s): ZIUSADISEQCHLOC_20250121173807.csv. LSMW File(s): ZIUSACREQWOREF_20250121173807.csv |object_type|UE_SWTCH     |UE_DISC  |GEMP Field Survey Team|2025-01-27 19:07:02.011299|20250121173807  |\n",
            "|202501271907020012|ue_swtch_02_sap_object_type_correction|02_20250121173807_11|trusted|Modify Equipment|Incorrect Object Type|Object type from UE_SWTCH to UE_DISC for equipment 100017077122. LSMW File(s): ZIUSADISEQCHLOC_20250121173807.csv. LSMW File(s): ZIUSACREQWOREF_20250121173807.csv |object_type|UE_SWTCH     |UE_DISC  |GEMP Field Survey Team|2025-01-27 19:07:02.012557|20250121173807  |\n",
            "|202501271906490553|ue_swtch_02_sap_object_type_correction|02_20250121173807_2 |trusted|Modify Equipment|Incorrect Object Type|Object type from UE_SWTCH to UE_CTOTS for equipment 100017077123. LSMW File(s): ZIUSADISEQCHLOC_20250121173807.csv. LSMW File(s): ZIUSACREQWOREF_20250121173807.csv|object_type|UE_SWTCH     |UE_CTOTS |GEMP Field Survey Team|2025-01-27 19:06:49.553752|20250121173807  |\n",
            "|202501271906490563|ue_swtch_02_sap_object_type_correction|02_20250121173807_3 |trusted|Modify Equipment|Incorrect Object Type|Object type from UE_SWTCH to UE_CTOTS for equipment 100017077124. LSMW File(s): ZIUSADISEQCHLOC_20250121173807.csv. LSMW File(s): ZIUSACREQWOREF_20250121173807.csv|object_type|UE_SWTCH     |UE_CTOTS |GEMP Field Survey Team|2025-01-27 19:06:49.563915|20250121173807  |\n",
            "|202501271906490565|ue_swtch_02_sap_object_type_correction|02_20250121173807_4 |trusted|Modify Equipment|Incorrect Object Type|Object type from UE_SWTCH to UE_CTOTS for equipment 100017077125. LSMW File(s): ZIUSADISEQCHLOC_20250121173807.csv. LSMW File(s): ZIUSACREQWOREF_20250121173807.csv|object_type|UE_SWTCH     |UE_CTOTS |GEMP Field Survey Team|2025-01-27 19:06:49.565492|20250121173807  |\n",
            "|202501271906490567|ue_swtch_02_sap_object_type_correction|02_20250121173807_5 |trusted|Modify Equipment|Incorrect Object Type|Object type from UE_SWTCH to UE_CTOTS for equipment 100017077126. LSMW File(s): ZIUSADISEQCHLOC_20250121173807.csv. LSMW File(s): ZIUSACREQWOREF_20250121173807.csv|object_type|UE_SWTCH     |UE_CTOTS |GEMP Field Survey Team|2025-01-27 19:06:49.567139|20250121173807  |\n",
            "|202501271906490568|ue_swtch_02_sap_object_type_correction|02_20250121173807_6 |trusted|Modify Equipment|Incorrect Object Type|Object type from UE_SWTCH to UE_CTOTS for equipment 100017077127. LSMW File(s): ZIUSADISEQCHLOC_20250121173807.csv. LSMW File(s): ZIUSACREQWOREF_20250121173807.csv|object_type|UE_SWTCH     |UE_CTOTS |GEMP Field Survey Team|2025-01-27 19:06:49.56836 |20250121173807  |\n",
            "|202501271906490569|ue_swtch_02_sap_object_type_correction|02_20250121173807_7 |trusted|Modify Equipment|Incorrect Object Type|Object type from UE_SWTCH to UE_CTOTS for equipment 100017077128. LSMW File(s): ZIUSADISEQCHLOC_20250121173807.csv. LSMW File(s): ZIUSACREQWOREF_20250121173807.csv|object_type|UE_SWTCH     |UE_CTOTS |GEMP Field Survey Team|2025-01-27 19:06:49.569584|20250121173807  |\n",
            "|202501271906490570|ue_swtch_02_sap_object_type_correction|02_20250121173807_9 |trusted|Modify Equipment|Incorrect Object Type|Object type from UE_SWTCH to UE_DISC for equipment 100017077120. LSMW File(s): ZIUSADISEQCHLOC_20250121173807.csv. LSMW File(s): ZIUSACREQWOREF_20250121173807.csv |object_type|UE_SWTCH     |UE_DISC  |GEMP Field Survey Team|2025-01-27 19:06:49.570773|20250121173807  |\n",
            "|202501271906490572|ue_swtch_02_sap_object_type_correction|02_20250121173807_10|trusted|Modify Equipment|Incorrect Object Type|Object type from UE_SWTCH to UE_DISC for equipment 100017077121. LSMW File(s): ZIUSADISEQCHLOC_20250121173807.csv. LSMW File(s): ZIUSACREQWOREF_20250121173807.csv |object_type|UE_SWTCH     |UE_DISC  |GEMP Field Survey Team|2025-01-27 19:06:49.572204|20250121173807  |\n",
            "|202501271906490573|ue_swtch_02_sap_object_type_correction|02_20250121173807_11|trusted|Modify Equipment|Incorrect Object Type|Object type from UE_SWTCH to UE_DISC for equipment 100017077122. LSMW File(s): ZIUSADISEQCHLOC_20250121173807.csv. LSMW File(s): ZIUSACREQWOREF_20250121173807.csv |object_type|UE_SWTCH     |UE_DISC  |GEMP Field Survey Team|2025-01-27 19:06:49.573382|20250121173807  |\n",
            "|202501271817340657|ue_swtch_02_sap_object_type_correction|02_20250121173807_2 |trusted|Modify Equipment|Incorrect Object Type|Object type from UE_SWTCH to UE_CTOTS for equipment 100017077123. LSMW File(s): ZIUSADISEQCHLOC_20250121173807.csv. LSMW File(s): ZIUSACREQWOREF_20250121173807.csv|object_type|UE_SWTCH     |UE_CTOTS |GEMP Field Survey Team|2025-01-27 18:17:34.657285|20250121173807  |\n",
            "|202501271817340658|ue_swtch_02_sap_object_type_correction|02_20250121173807_3 |trusted|Modify Equipment|Incorrect Object Type|Object type from UE_SWTCH to UE_CTOTS for equipment 100017077124. LSMW File(s): ZIUSADISEQCHLOC_20250121173807.csv. LSMW File(s): ZIUSACREQWOREF_20250121173807.csv|object_type|UE_SWTCH     |UE_CTOTS |GEMP Field Survey Team|2025-01-27 18:17:34.658917|20250121173807  |\n",
            "+------------------+--------------------------------------+--------------------+-------+----------------+---------------------+-------------------------------------------------------------------------------------------------------------------------------------------------------------------+-----------+-------------+---------+----------------------+--------------------------+----------------+\n",
            "only showing top 20 rows\n",
            "\n"
          ]
        }
      ],
      "source": [
        "%run \"/content/drive/MyDrive/Colab Notebooks/GEMP/notebooks/scenarios/scenarios_code/ue_switch_02_ue_ctots_load_break_switch.ipynb\"\n",
        "\n",
        "# Uploaded outputs\n",
        "get_df_last_partition(logs_path, 'data_quality_log', 'process_datetime').show(truncate=False)\n",
        "# get_df_last_partition(refined_path, 'lsmw_ziusachobjtype', 'process_datetime').show(truncate=False)"
      ]
    },
    {
      "cell_type": "markdown",
      "metadata": {
        "id": "snUmj4eBR-GY"
      },
      "source": []
    },
    {
      "cell_type": "markdown",
      "metadata": {
        "id": "OZd2xUvvPiOK"
      },
      "source": [
        "#UE_CAPSG Scenario 1: Serialized Equipment in Field – Not in SAP​"
      ]
    },
    {
      "cell_type": "code",
      "execution_count": null,
      "metadata": {
        "collapsed": true,
        "id": "YYONC7svzetx"
      },
      "outputs": [],
      "source": [
        "%run \"/content/drive/MyDrive/Colab Notebooks/GEMP/notebooks/scenarios/scenarios_code/ue_capsg_01_serialized_equipment_in_field_not_in_sap.ipynb\"\n",
        "\n",
        "#Uploaded outputs\n",
        "#get_df_last_partition(logs_path, 'data_quality_log', 'process_datetime').show(100, truncate=False)\n",
        "#get_df_last_partition(refined_path, 'lsmw_ziusacrktypeq', 'process_datetime').show(truncate=False)\n"
      ]
    },
    {
      "cell_type": "markdown",
      "metadata": {
        "id": "ZBx9AtdFQjwi"
      },
      "source": [
        "#Non-Load Break Switch (UE_DISC) - Scenario 2: Disconnect Switch in Field, Not n Records: Non-Serialized Equipment - FLOC Exists"
      ]
    },
    {
      "cell_type": "code",
      "execution_count": null,
      "metadata": {
        "collapsed": true,
        "id": "foZP8LC9j-cP"
      },
      "outputs": [],
      "source": [
        "%run \"/content/drive/MyDrive/Colab Notebooks/GEMP/notebooks/scenarios/scenarios_code/ue_disc_02_disconnect_switch_in_field_not_in_records_floc_exist.ipynb\"\n",
        "\n",
        "#Uploaded outputs\n",
        "#get_df_last_partition(logs_path, 'data_quality_log', 'process_datetime').show(100, truncate=False)\n",
        "# get_df_last_partition(refined_path, 'ziusacreqworef', 'process_datetime').show(truncate=False)"
      ]
    },
    {
      "cell_type": "markdown",
      "metadata": {
        "id": "xXAcX3sS8KdF"
      },
      "source": [
        "#Cutouts (UE_CTOUT) & Conductor (UE_CONDR) - Scenario 1: Non-Serialized Equipment (Non Pre-Cap) on Record – Not in Field​"
      ]
    },
    {
      "cell_type": "markdown",
      "source": [],
      "metadata": {
        "id": "FqHTv9RJtYKf"
      }
    },
    {
      "cell_type": "code",
      "execution_count": null,
      "metadata": {
        "collapsed": true,
        "id": "5822bFoT1i0T"
      },
      "outputs": [],
      "source": [
        "%run \"/content/drive/MyDrive/Colab Notebooks/GEMP/notebooks/scenarios/scenarios_code/ue_condr_01_sap_non_serialized_on_record_not_in_field.ipynb\"\n",
        "\n",
        "#Uploaded outputs\n",
        "#get_df_last_partition(logs_path, 'data_quality_log', 'process_datetime').show(100, truncate=False)\n",
        "# get_df_last_partition(refined_path, 'lsmw_ziusadiseqchloc', 'process_datetime').show(truncate=False)\n",
        "# get_df_last_partition(refined_path, 'lsmw_ziusaeqidismant', 'process_datetime').show(truncate=False)"
      ]
    },
    {
      "cell_type": "code",
      "source": [
        "%run \"/content/drive/MyDrive/Colab Notebooks/GEMP/notebooks/scenarios/scenarios_code/ue_ctout_01_sap_non_serialized_on_record_not_in_field.ipynb\"\n",
        "\n",
        "#get_df_last_partition(logs_path, 'data_quality_log', 'process_datetime').show(100, truncate=False)\n"
      ],
      "metadata": {
        "id": "agHb20CGtSH5",
        "collapsed": true
      },
      "execution_count": null,
      "outputs": []
    },
    {
      "cell_type": "markdown",
      "metadata": {
        "id": "nafRPbdKEGfM"
      },
      "source": [
        "#Standard SAP Scenarios - Scenario 4: Equipment Removed in Field – Showing on FLOC"
      ]
    },
    {
      "cell_type": "code",
      "execution_count": null,
      "metadata": {
        "collapsed": true,
        "id": "ZhAE6FBz4IXd",
        "colab": {
          "base_uri": "https://localhost:8080/"
        },
        "outputId": "f042693e-b75c-42ac-96ec-ea8c06965d45"
      },
      "outputs": [
        {
          "output_type": "stream",
          "name": "stdout",
          "text": [
            "+------------------+----------------------------------------------------------+----------------------------+-------+----------------+--------------------------------+-------------------------------------------------------------------------------------------------------------------------------------------+-----------+-------------+---------+----------------------+--------------------------+----------------+\n",
            "|id                |process_id                                                |id_data                     |state  |operation       |error_type                      |error_desc                                                                                                                                 |column_name|invalid_value|new_value|recipient             |date_time                 |process_datetime|\n",
            "+------------------+----------------------------------------------------------+----------------------------+-------+----------------+--------------------------------+-------------------------------------------------------------------------------------------------------------------------------------------+-----------+-------------+---------+----------------------+--------------------------+----------------+\n",
            "|202501232348200386|standard_04_sap_equipment_removed_in_field_showing_on_floc|02_20250121173807_8589934597|trusted|Remove Equipment|Remove equipment characteristics|Equipment 100017272751 will keep in SAP but its FLOC information must be deleted from SAP. LSMW File(s): ZIUSAEQIDISMANT_20250121173807.csv|NULL       |NULL         |NULL     |GEMP Field Survey Team|2025-01-23 23:48:20.386185|20250121173807  |\n",
            "|202501232348200926|standard_04_sap_equipment_removed_in_field_showing_on_floc|02_20250121173807_15        |trusted|Remove Equipment|Remove equipment characteristics|Equipment 100005338314 will keep in SAP but its FLOC information must be deleted from SAP. LSMW File(s): ZIUSAINACEQUI_20250121173807.csv  |NULL       |NULL         |NULL     |GEMP Field Survey Team|2025-01-23 23:48:20.926541|20250121173807  |\n",
            "|202501232348210074|standard_04_sap_equipment_removed_in_field_showing_on_floc|02_20250121173807_8589934592|trusted|Remove Equipment|Remove equipment characteristics|Equipment 100005338316 will keep in SAP but its FLOC information must be deleted from SAP. LSMW File(s): ZIUSAINACEQUI_20250121173807.csv  |NULL       |NULL         |NULL     |GEMP Field Survey Team|2025-01-23 23:48:21.074619|20250121173807  |\n",
            "|202501232348210077|standard_04_sap_equipment_removed_in_field_showing_on_floc|02_20250121173807_8589934593|trusted|Remove Equipment|Remove equipment characteristics|Equipment 100005338354 will keep in SAP but its FLOC information must be deleted from SAP. LSMW File(s): ZIUSAINACEQUI_20250121173807.csv  |NULL       |NULL         |NULL     |GEMP Field Survey Team|2025-01-23 23:48:21.077861|20250121173807  |\n",
            "|202501232348210079|standard_04_sap_equipment_removed_in_field_showing_on_floc|02_20250121173807_8589934594|trusted|Remove Equipment|Remove equipment characteristics|Equipment 100005338356 will keep in SAP but its FLOC information must be deleted from SAP. LSMW File(s): ZIUSAINACEQUI_20250121173807.csv  |NULL       |NULL         |NULL     |GEMP Field Survey Team|2025-01-23 23:48:21.079142|20250121173807  |\n",
            "|202501232348210080|standard_04_sap_equipment_removed_in_field_showing_on_floc|02_20250121173807_8589934604|trusted|Remove Equipment|Remove equipment characteristics|Equipment 100005431216 will keep in SAP but its FLOC information must be deleted from SAP. LSMW File(s): ZIUSAINACEQUI_20250121173807.csv  |NULL       |NULL         |NULL     |GEMP Field Survey Team|2025-01-23 23:48:21.080589|20250121173807  |\n",
            "+------------------+----------------------------------------------------------+----------------------------+-------+----------------+--------------------------------+-------------------------------------------------------------------------------------------------------------------------------------------+-----------+-------------+---------+----------------------+--------------------------+----------------+\n",
            "\n"
          ]
        }
      ],
      "source": [
        "%run \"/content/drive/MyDrive/Colab Notebooks/GEMP/notebooks/scenarios/scenarios_code/standard_sap_scenario_4_equipment_removed_in_field_showing_on_floc.ipynb\"\n",
        "\n",
        "#Uploaded outputs\n",
        "get_df_last_partition(logs_path, 'data_quality_log', 'process_datetime').show(truncate=False)\n",
        "# get_df_last_partition(refined_path, 'lsmw_ziusainecequi', 'process_datetime').show(truncate=False)"
      ]
    },
    {
      "cell_type": "markdown",
      "source": [
        "# Serialized equipment in field, not in records\n"
      ],
      "metadata": {
        "id": "MpdBm5XURyNf"
      }
    },
    {
      "cell_type": "code",
      "source": [
        "%run \"/content/drive/MyDrive/Colab Notebooks/GEMP/notebooks/scenarios/scenarios_code/scenario_xx_serialized_equipment_in_field_not_in_records.ipynb\""
      ],
      "metadata": {
        "id": "LoJHgOmBR-XD"
      },
      "execution_count": 34,
      "outputs": []
    },
    {
      "cell_type": "markdown",
      "source": [
        "# Non serialized equipment in field, not in records\n"
      ],
      "metadata": {
        "id": "G3v8mhNSR8eM"
      }
    },
    {
      "cell_type": "code",
      "source": [
        "#%run \"/content/drive/MyDrive/Colab Notebooks/GEMP/notebooks/scenarios/scenarios_code/scenario_xx_non_serialized_equipment_in_field_not_in_records.ipynb\""
      ],
      "metadata": {
        "id": "HLTObjMhSMSR"
      },
      "execution_count": null,
      "outputs": []
    },
    {
      "cell_type": "markdown",
      "source": [],
      "metadata": {
        "id": "QqsRYQvtR6Uq"
      }
    },
    {
      "cell_type": "markdown",
      "metadata": {
        "id": "pW7inZZRkpn_"
      },
      "source": [
        "# CU ID Missing"
      ]
    },
    {
      "cell_type": "code",
      "execution_count": null,
      "metadata": {
        "colab": {
          "base_uri": "https://localhost:8080/",
          "height": 739
        },
        "id": "SfXIO-fIktZf",
        "outputId": "c80bb3e1-1791-47bc-d77a-140947c95a8c",
        "collapsed": true
      },
      "outputs": [
        {
          "ename": "AnalysisException",
          "evalue": "[PATH_NOT_FOUND] Path does not exist: file:/content/data_lake/trusted/sap_updates.",
          "output_type": "error",
          "traceback": [
            "\u001b[0;31m---------------------------------------------------------------------------\u001b[0m",
            "\u001b[0;31mAnalysisException\u001b[0m                         Traceback (most recent call last)",
            "\u001b[0;32m/content/drive/MyDrive/Colab Notebooks/GEMP/notebooks/scenarios/scenarios_code/cu_id_missing.ipynb\u001b[0m in \u001b[0;36m<cell line: 2>\u001b[0;34m()\u001b[0m\n\u001b[1;32m      1\u001b[0m \u001b[0;31m# sap_updates\u001b[0m\u001b[0;34m\u001b[0m\u001b[0;34m\u001b[0m\u001b[0m\n\u001b[0;32m----> 2\u001b[0;31m \u001b[0mget_df_last_partition\u001b[0m\u001b[0;34m(\u001b[0m\u001b[0mtrusted_path\u001b[0m\u001b[0;34m,\u001b[0m \u001b[0;34m'sap_updates'\u001b[0m\u001b[0;34m,\u001b[0m \u001b[0;34m'process_datetime'\u001b[0m\u001b[0;34m)\u001b[0m\u001b[0;34m.\u001b[0m\u001b[0mcreateOrReplaceTempView\u001b[0m\u001b[0;34m(\u001b[0m\u001b[0;34m\"vw_sap_updates\"\u001b[0m\u001b[0;34m)\u001b[0m\u001b[0;34m\u001b[0m\u001b[0;34m\u001b[0m\u001b[0m\n\u001b[0m\u001b[1;32m      3\u001b[0m \u001b[0mcharacteristics_mapping\u001b[0m \u001b[0;34m=\u001b[0m \u001b[0mget_characteristics_mapping\u001b[0m\u001b[0;34m(\u001b[0m\u001b[0;34m)\u001b[0m\u001b[0;34m\u001b[0m\u001b[0;34m\u001b[0m\u001b[0m\n\u001b[1;32m      4\u001b[0m \u001b[0mcharacteristic_filter\u001b[0m \u001b[0;34m=\u001b[0m \u001b[0mbuild_characteristic_filter\u001b[0m\u001b[0;34m(\u001b[0m\u001b[0mcharacteristics_mapping\u001b[0m\u001b[0;34m[\u001b[0m\u001b[0;34m'UE_CAPSG'\u001b[0m\u001b[0;34m]\u001b[0m\u001b[0;34m)\u001b[0m\u001b[0;34m\u001b[0m\u001b[0;34m\u001b[0m\u001b[0m\n\u001b[1;32m      5\u001b[0m \u001b[0mget_cu_id_from_characteristics\u001b[0m\u001b[0;34m(\u001b[0m\u001b[0mtrusted_path\u001b[0m\u001b[0;34m,\u001b[0m \u001b[0;34m'UE_CAPSG'\u001b[0m\u001b[0;34m,\u001b[0m \u001b[0mcharacteristic_filter\u001b[0m\u001b[0;34m)\u001b[0m\u001b[0;34m\u001b[0m\u001b[0;34m\u001b[0m\u001b[0m\n",
            "\u001b[0;32m/content/drive/MyDrive/Colab Notebooks/GEMP/notebooks/scenarios/scenarios_code/cu_id_missing.ipynb\u001b[0m in \u001b[0;36mget_df_last_partition\u001b[0;34m(zone_path, table_name, partition_column_name)\u001b[0m\n\u001b[1;32m      1\u001b[0m \u001b[0;32mdef\u001b[0m \u001b[0mget_df_last_partition\u001b[0m\u001b[0;34m(\u001b[0m\u001b[0mzone_path\u001b[0m\u001b[0;34m,\u001b[0m \u001b[0mtable_name\u001b[0m\u001b[0;34m,\u001b[0m \u001b[0mpartition_column_name\u001b[0m\u001b[0;34m)\u001b[0m\u001b[0;34m:\u001b[0m\u001b[0;34m\u001b[0m\u001b[0;34m\u001b[0m\u001b[0m\n\u001b[1;32m      2\u001b[0m \u001b[0;34m\u001b[0m\u001b[0m\n\u001b[0;32m----> 3\u001b[0;31m   \u001b[0mdf\u001b[0m \u001b[0;34m=\u001b[0m \u001b[0mspark\u001b[0m\u001b[0;34m.\u001b[0m\u001b[0mread\u001b[0m\u001b[0;34m.\u001b[0m\u001b[0mparquet\u001b[0m\u001b[0;34m(\u001b[0m\u001b[0;34mf'{zone_path}/{table_name}'\u001b[0m\u001b[0;34m)\u001b[0m\u001b[0;34m\u001b[0m\u001b[0;34m\u001b[0m\u001b[0m\n\u001b[0m\u001b[1;32m      4\u001b[0m   \u001b[0mlast_partition\u001b[0m \u001b[0;34m=\u001b[0m \u001b[0mdf\u001b[0m\u001b[0;34m.\u001b[0m\u001b[0magg\u001b[0m\u001b[0;34m(\u001b[0m\u001b[0;34m{\u001b[0m\u001b[0mpartition_column_name\u001b[0m\u001b[0;34m:\u001b[0m \u001b[0;34m\"max\"\u001b[0m\u001b[0;34m}\u001b[0m\u001b[0;34m)\u001b[0m\u001b[0;34m.\u001b[0m\u001b[0mcollect\u001b[0m\u001b[0;34m(\u001b[0m\u001b[0;34m)\u001b[0m\u001b[0;34m[\u001b[0m\u001b[0;36m0\u001b[0m\u001b[0;34m]\u001b[0m\u001b[0;34m[\u001b[0m\u001b[0;36m0\u001b[0m\u001b[0;34m]\u001b[0m\u001b[0;34m\u001b[0m\u001b[0;34m\u001b[0m\u001b[0m\n\u001b[1;32m      5\u001b[0m   \u001b[0mdf_last_partition\u001b[0m \u001b[0;34m=\u001b[0m \u001b[0mdf\u001b[0m\u001b[0;34m.\u001b[0m\u001b[0mfilter\u001b[0m\u001b[0;34m(\u001b[0m\u001b[0mcol\u001b[0m\u001b[0;34m(\u001b[0m\u001b[0mpartition_column_name\u001b[0m\u001b[0;34m)\u001b[0m \u001b[0;34m==\u001b[0m \u001b[0mlast_partition\u001b[0m\u001b[0;34m)\u001b[0m\u001b[0;34m\u001b[0m\u001b[0;34m\u001b[0m\u001b[0m\n",
            "\u001b[0;32m/usr/local/lib/python3.10/dist-packages/pyspark/sql/readwriter.py\u001b[0m in \u001b[0;36mparquet\u001b[0;34m(self, *paths, **options)\u001b[0m\n\u001b[1;32m    542\u001b[0m         )\n\u001b[1;32m    543\u001b[0m \u001b[0;34m\u001b[0m\u001b[0m\n\u001b[0;32m--> 544\u001b[0;31m         \u001b[0;32mreturn\u001b[0m \u001b[0mself\u001b[0m\u001b[0;34m.\u001b[0m\u001b[0m_df\u001b[0m\u001b[0;34m(\u001b[0m\u001b[0mself\u001b[0m\u001b[0;34m.\u001b[0m\u001b[0m_jreader\u001b[0m\u001b[0;34m.\u001b[0m\u001b[0mparquet\u001b[0m\u001b[0;34m(\u001b[0m\u001b[0m_to_seq\u001b[0m\u001b[0;34m(\u001b[0m\u001b[0mself\u001b[0m\u001b[0;34m.\u001b[0m\u001b[0m_spark\u001b[0m\u001b[0;34m.\u001b[0m\u001b[0m_sc\u001b[0m\u001b[0;34m,\u001b[0m \u001b[0mpaths\u001b[0m\u001b[0;34m)\u001b[0m\u001b[0;34m)\u001b[0m\u001b[0;34m)\u001b[0m\u001b[0;34m\u001b[0m\u001b[0;34m\u001b[0m\u001b[0m\n\u001b[0m\u001b[1;32m    545\u001b[0m \u001b[0;34m\u001b[0m\u001b[0m\n\u001b[1;32m    546\u001b[0m     def text(\n",
            "\u001b[0;32m/usr/local/lib/python3.10/dist-packages/py4j/java_gateway.py\u001b[0m in \u001b[0;36m__call__\u001b[0;34m(self, *args)\u001b[0m\n\u001b[1;32m   1320\u001b[0m \u001b[0;34m\u001b[0m\u001b[0m\n\u001b[1;32m   1321\u001b[0m         \u001b[0manswer\u001b[0m \u001b[0;34m=\u001b[0m \u001b[0mself\u001b[0m\u001b[0;34m.\u001b[0m\u001b[0mgateway_client\u001b[0m\u001b[0;34m.\u001b[0m\u001b[0msend_command\u001b[0m\u001b[0;34m(\u001b[0m\u001b[0mcommand\u001b[0m\u001b[0;34m)\u001b[0m\u001b[0;34m\u001b[0m\u001b[0;34m\u001b[0m\u001b[0m\n\u001b[0;32m-> 1322\u001b[0;31m         return_value = get_return_value(\n\u001b[0m\u001b[1;32m   1323\u001b[0m             answer, self.gateway_client, self.target_id, self.name)\n\u001b[1;32m   1324\u001b[0m \u001b[0;34m\u001b[0m\u001b[0m\n",
            "\u001b[0;32m/usr/local/lib/python3.10/dist-packages/pyspark/errors/exceptions/captured.py\u001b[0m in \u001b[0;36mdeco\u001b[0;34m(*a, **kw)\u001b[0m\n\u001b[1;32m    183\u001b[0m                 \u001b[0;31m# Hide where the exception came from that shows a non-Pythonic\u001b[0m\u001b[0;34m\u001b[0m\u001b[0;34m\u001b[0m\u001b[0m\n\u001b[1;32m    184\u001b[0m                 \u001b[0;31m# JVM exception message.\u001b[0m\u001b[0;34m\u001b[0m\u001b[0;34m\u001b[0m\u001b[0m\n\u001b[0;32m--> 185\u001b[0;31m                 \u001b[0;32mraise\u001b[0m \u001b[0mconverted\u001b[0m \u001b[0;32mfrom\u001b[0m \u001b[0;32mNone\u001b[0m\u001b[0;34m\u001b[0m\u001b[0;34m\u001b[0m\u001b[0m\n\u001b[0m\u001b[1;32m    186\u001b[0m             \u001b[0;32melse\u001b[0m\u001b[0;34m:\u001b[0m\u001b[0;34m\u001b[0m\u001b[0;34m\u001b[0m\u001b[0m\n\u001b[1;32m    187\u001b[0m                 \u001b[0;32mraise\u001b[0m\u001b[0;34m\u001b[0m\u001b[0;34m\u001b[0m\u001b[0m\n",
            "\u001b[0;31mAnalysisException\u001b[0m: [PATH_NOT_FOUND] Path does not exist: file:/content/data_lake/trusted/sap_updates."
          ]
        },
        {
          "ename": "AnalysisException",
          "evalue": "[PATH_NOT_FOUND] Path does not exist: file:/content/data_lake/trusted/sap_updates.",
          "output_type": "error",
          "traceback": [
            "\u001b[0;31m---------------------------------------------------------------------------\u001b[0m",
            "\u001b[0;31mAnalysisException\u001b[0m                         Traceback (most recent call last)",
            "\u001b[0;32m<ipython-input-8-0a2f44faa452>\u001b[0m in \u001b[0;36m<cell line: 1>\u001b[0;34m()\u001b[0m\n\u001b[0;32m----> 1\u001b[0;31m \u001b[0mget_ipython\u001b[0m\u001b[0;34m(\u001b[0m\u001b[0;34m)\u001b[0m\u001b[0;34m.\u001b[0m\u001b[0mrun_line_magic\u001b[0m\u001b[0;34m(\u001b[0m\u001b[0;34m'run'\u001b[0m\u001b[0;34m,\u001b[0m \u001b[0;34m'\"/content/drive/MyDrive/Colab Notebooks/GEMP/notebooks/scenarios/scenarios_code/cu_id_missing.ipynb\"'\u001b[0m\u001b[0;34m)\u001b[0m\u001b[0;34m\u001b[0m\u001b[0;34m\u001b[0m\u001b[0m\n\u001b[0m",
            "\u001b[0;32m/usr/local/lib/python3.10/dist-packages/IPython/core/interactiveshell.py\u001b[0m in \u001b[0;36mrun_line_magic\u001b[0;34m(self, magic_name, line, _stack_depth)\u001b[0m\n\u001b[1;32m   2416\u001b[0m                 \u001b[0mkwargs\u001b[0m\u001b[0;34m[\u001b[0m\u001b[0;34m'local_ns'\u001b[0m\u001b[0;34m]\u001b[0m \u001b[0;34m=\u001b[0m \u001b[0mself\u001b[0m\u001b[0;34m.\u001b[0m\u001b[0mget_local_scope\u001b[0m\u001b[0;34m(\u001b[0m\u001b[0mstack_depth\u001b[0m\u001b[0;34m)\u001b[0m\u001b[0;34m\u001b[0m\u001b[0;34m\u001b[0m\u001b[0m\n\u001b[1;32m   2417\u001b[0m             \u001b[0;32mwith\u001b[0m \u001b[0mself\u001b[0m\u001b[0;34m.\u001b[0m\u001b[0mbuiltin_trap\u001b[0m\u001b[0;34m:\u001b[0m\u001b[0;34m\u001b[0m\u001b[0;34m\u001b[0m\u001b[0m\n\u001b[0;32m-> 2418\u001b[0;31m                 \u001b[0mresult\u001b[0m \u001b[0;34m=\u001b[0m \u001b[0mfn\u001b[0m\u001b[0;34m(\u001b[0m\u001b[0;34m*\u001b[0m\u001b[0margs\u001b[0m\u001b[0;34m,\u001b[0m \u001b[0;34m**\u001b[0m\u001b[0mkwargs\u001b[0m\u001b[0;34m)\u001b[0m\u001b[0;34m\u001b[0m\u001b[0;34m\u001b[0m\u001b[0m\n\u001b[0m\u001b[1;32m   2419\u001b[0m             \u001b[0;32mreturn\u001b[0m \u001b[0mresult\u001b[0m\u001b[0;34m\u001b[0m\u001b[0;34m\u001b[0m\u001b[0m\n\u001b[1;32m   2420\u001b[0m \u001b[0;34m\u001b[0m\u001b[0m\n",
            "\u001b[0;32m<decorator-gen-52>\u001b[0m in \u001b[0;36mrun\u001b[0;34m(self, parameter_s, runner, file_finder)\u001b[0m\n",
            "\u001b[0;32m/usr/local/lib/python3.10/dist-packages/IPython/core/magic.py\u001b[0m in \u001b[0;36m<lambda>\u001b[0;34m(f, *a, **k)\u001b[0m\n\u001b[1;32m    185\u001b[0m     \u001b[0;31m# but it's overkill for just that one bit of state.\u001b[0m\u001b[0;34m\u001b[0m\u001b[0;34m\u001b[0m\u001b[0m\n\u001b[1;32m    186\u001b[0m     \u001b[0;32mdef\u001b[0m \u001b[0mmagic_deco\u001b[0m\u001b[0;34m(\u001b[0m\u001b[0marg\u001b[0m\u001b[0;34m)\u001b[0m\u001b[0;34m:\u001b[0m\u001b[0;34m\u001b[0m\u001b[0;34m\u001b[0m\u001b[0m\n\u001b[0;32m--> 187\u001b[0;31m         \u001b[0mcall\u001b[0m \u001b[0;34m=\u001b[0m \u001b[0;32mlambda\u001b[0m \u001b[0mf\u001b[0m\u001b[0;34m,\u001b[0m \u001b[0;34m*\u001b[0m\u001b[0ma\u001b[0m\u001b[0;34m,\u001b[0m \u001b[0;34m**\u001b[0m\u001b[0mk\u001b[0m\u001b[0;34m:\u001b[0m \u001b[0mf\u001b[0m\u001b[0;34m(\u001b[0m\u001b[0;34m*\u001b[0m\u001b[0ma\u001b[0m\u001b[0;34m,\u001b[0m \u001b[0;34m**\u001b[0m\u001b[0mk\u001b[0m\u001b[0;34m)\u001b[0m\u001b[0;34m\u001b[0m\u001b[0;34m\u001b[0m\u001b[0m\n\u001b[0m\u001b[1;32m    188\u001b[0m \u001b[0;34m\u001b[0m\u001b[0m\n\u001b[1;32m    189\u001b[0m         \u001b[0;32mif\u001b[0m \u001b[0mcallable\u001b[0m\u001b[0;34m(\u001b[0m\u001b[0marg\u001b[0m\u001b[0;34m)\u001b[0m\u001b[0;34m:\u001b[0m\u001b[0;34m\u001b[0m\u001b[0;34m\u001b[0m\u001b[0m\n",
            "\u001b[0;32m/usr/local/lib/python3.10/dist-packages/IPython/core/magics/execution.py\u001b[0m in \u001b[0;36mrun\u001b[0;34m(self, parameter_s, runner, file_finder)\u001b[0m\n\u001b[1;32m    733\u001b[0m             \u001b[0;32mwith\u001b[0m \u001b[0mpreserve_keys\u001b[0m\u001b[0;34m(\u001b[0m\u001b[0mself\u001b[0m\u001b[0;34m.\u001b[0m\u001b[0mshell\u001b[0m\u001b[0;34m.\u001b[0m\u001b[0muser_ns\u001b[0m\u001b[0;34m,\u001b[0m \u001b[0;34m'__file__'\u001b[0m\u001b[0;34m)\u001b[0m\u001b[0;34m:\u001b[0m\u001b[0;34m\u001b[0m\u001b[0;34m\u001b[0m\u001b[0m\n\u001b[1;32m    734\u001b[0m                 \u001b[0mself\u001b[0m\u001b[0;34m.\u001b[0m\u001b[0mshell\u001b[0m\u001b[0;34m.\u001b[0m\u001b[0muser_ns\u001b[0m\u001b[0;34m[\u001b[0m\u001b[0;34m'__file__'\u001b[0m\u001b[0;34m]\u001b[0m \u001b[0;34m=\u001b[0m \u001b[0mfilename\u001b[0m\u001b[0;34m\u001b[0m\u001b[0;34m\u001b[0m\u001b[0m\n\u001b[0;32m--> 735\u001b[0;31m                 \u001b[0mself\u001b[0m\u001b[0;34m.\u001b[0m\u001b[0mshell\u001b[0m\u001b[0;34m.\u001b[0m\u001b[0msafe_execfile_ipy\u001b[0m\u001b[0;34m(\u001b[0m\u001b[0mfilename\u001b[0m\u001b[0;34m,\u001b[0m \u001b[0mraise_exceptions\u001b[0m\u001b[0;34m=\u001b[0m\u001b[0;32mTrue\u001b[0m\u001b[0;34m)\u001b[0m\u001b[0;34m\u001b[0m\u001b[0;34m\u001b[0m\u001b[0m\n\u001b[0m\u001b[1;32m    736\u001b[0m             \u001b[0;32mreturn\u001b[0m\u001b[0;34m\u001b[0m\u001b[0;34m\u001b[0m\u001b[0m\n\u001b[1;32m    737\u001b[0m \u001b[0;34m\u001b[0m\u001b[0m\n",
            "\u001b[0;32m/usr/local/lib/python3.10/dist-packages/IPython/core/interactiveshell.py\u001b[0m in \u001b[0;36msafe_execfile_ipy\u001b[0;34m(self, fname, shell_futures, raise_exceptions)\u001b[0m\n\u001b[1;32m   2903\u001b[0m                     \u001b[0mresult\u001b[0m \u001b[0;34m=\u001b[0m \u001b[0mself\u001b[0m\u001b[0;34m.\u001b[0m\u001b[0mrun_cell\u001b[0m\u001b[0;34m(\u001b[0m\u001b[0mcell\u001b[0m\u001b[0;34m,\u001b[0m \u001b[0msilent\u001b[0m\u001b[0;34m=\u001b[0m\u001b[0;32mTrue\u001b[0m\u001b[0;34m,\u001b[0m \u001b[0mshell_futures\u001b[0m\u001b[0;34m=\u001b[0m\u001b[0mshell_futures\u001b[0m\u001b[0;34m)\u001b[0m\u001b[0;34m\u001b[0m\u001b[0;34m\u001b[0m\u001b[0m\n\u001b[1;32m   2904\u001b[0m                     \u001b[0;32mif\u001b[0m \u001b[0mraise_exceptions\u001b[0m\u001b[0;34m:\u001b[0m\u001b[0;34m\u001b[0m\u001b[0;34m\u001b[0m\u001b[0m\n\u001b[0;32m-> 2905\u001b[0;31m                         \u001b[0mresult\u001b[0m\u001b[0;34m.\u001b[0m\u001b[0mraise_error\u001b[0m\u001b[0;34m(\u001b[0m\u001b[0;34m)\u001b[0m\u001b[0;34m\u001b[0m\u001b[0;34m\u001b[0m\u001b[0m\n\u001b[0m\u001b[1;32m   2906\u001b[0m                     \u001b[0;32melif\u001b[0m \u001b[0;32mnot\u001b[0m \u001b[0mresult\u001b[0m\u001b[0;34m.\u001b[0m\u001b[0msuccess\u001b[0m\u001b[0;34m:\u001b[0m\u001b[0;34m\u001b[0m\u001b[0;34m\u001b[0m\u001b[0m\n\u001b[1;32m   2907\u001b[0m                         \u001b[0;32mbreak\u001b[0m\u001b[0;34m\u001b[0m\u001b[0;34m\u001b[0m\u001b[0m\n",
            "\u001b[0;32m/usr/local/lib/python3.10/dist-packages/IPython/core/interactiveshell.py\u001b[0m in \u001b[0;36mraise_error\u001b[0;34m(self)\u001b[0m\n\u001b[1;32m    347\u001b[0m             \u001b[0;32mraise\u001b[0m \u001b[0mself\u001b[0m\u001b[0;34m.\u001b[0m\u001b[0merror_before_exec\u001b[0m\u001b[0;34m\u001b[0m\u001b[0;34m\u001b[0m\u001b[0m\n\u001b[1;32m    348\u001b[0m         \u001b[0;32mif\u001b[0m \u001b[0mself\u001b[0m\u001b[0;34m.\u001b[0m\u001b[0merror_in_exec\u001b[0m \u001b[0;32mis\u001b[0m \u001b[0;32mnot\u001b[0m \u001b[0;32mNone\u001b[0m\u001b[0;34m:\u001b[0m\u001b[0;34m\u001b[0m\u001b[0;34m\u001b[0m\u001b[0m\n\u001b[0;32m--> 349\u001b[0;31m             \u001b[0;32mraise\u001b[0m \u001b[0mself\u001b[0m\u001b[0;34m.\u001b[0m\u001b[0merror_in_exec\u001b[0m\u001b[0;34m\u001b[0m\u001b[0;34m\u001b[0m\u001b[0m\n\u001b[0m\u001b[1;32m    350\u001b[0m \u001b[0;34m\u001b[0m\u001b[0m\n\u001b[1;32m    351\u001b[0m     \u001b[0;32mdef\u001b[0m \u001b[0m__repr__\u001b[0m\u001b[0;34m(\u001b[0m\u001b[0mself\u001b[0m\u001b[0;34m)\u001b[0m\u001b[0;34m:\u001b[0m\u001b[0;34m\u001b[0m\u001b[0;34m\u001b[0m\u001b[0m\n",
            "    \u001b[0;31m[... skipping hidden 1 frame]\u001b[0m\n",
            "\u001b[0;32m<ipython-input-8-26f6dab24574>\u001b[0m in \u001b[0;36m<cell line: 2>\u001b[0;34m()\u001b[0m\n\u001b[1;32m      1\u001b[0m \u001b[0;31m# sap_updates\u001b[0m\u001b[0;34m\u001b[0m\u001b[0;34m\u001b[0m\u001b[0m\n\u001b[0;32m----> 2\u001b[0;31m \u001b[0mget_df_last_partition\u001b[0m\u001b[0;34m(\u001b[0m\u001b[0mtrusted_path\u001b[0m\u001b[0;34m,\u001b[0m \u001b[0;34m'sap_updates'\u001b[0m\u001b[0;34m,\u001b[0m \u001b[0;34m'process_datetime'\u001b[0m\u001b[0;34m)\u001b[0m\u001b[0;34m.\u001b[0m\u001b[0mcreateOrReplaceTempView\u001b[0m\u001b[0;34m(\u001b[0m\u001b[0;34m\"vw_sap_updates\"\u001b[0m\u001b[0;34m)\u001b[0m\u001b[0;34m\u001b[0m\u001b[0;34m\u001b[0m\u001b[0m\n\u001b[0m\u001b[1;32m      3\u001b[0m \u001b[0mcharacteristics_mapping\u001b[0m \u001b[0;34m=\u001b[0m \u001b[0mget_characteristics_mapping\u001b[0m\u001b[0;34m(\u001b[0m\u001b[0;34m)\u001b[0m\u001b[0;34m\u001b[0m\u001b[0;34m\u001b[0m\u001b[0m\n\u001b[1;32m      4\u001b[0m \u001b[0mcharacteristic_filter\u001b[0m \u001b[0;34m=\u001b[0m \u001b[0mbuild_characteristic_filter\u001b[0m\u001b[0;34m(\u001b[0m\u001b[0mcharacteristics_mapping\u001b[0m\u001b[0;34m[\u001b[0m\u001b[0;34m'UE_CAPSG'\u001b[0m\u001b[0;34m]\u001b[0m\u001b[0;34m)\u001b[0m\u001b[0;34m\u001b[0m\u001b[0;34m\u001b[0m\u001b[0m\n\u001b[1;32m      5\u001b[0m \u001b[0mget_cu_id_from_characteristics\u001b[0m\u001b[0;34m(\u001b[0m\u001b[0mtrusted_path\u001b[0m\u001b[0;34m,\u001b[0m \u001b[0;34m'UE_CAPSG'\u001b[0m\u001b[0;34m,\u001b[0m \u001b[0mcharacteristic_filter\u001b[0m\u001b[0;34m)\u001b[0m\u001b[0;34m\u001b[0m\u001b[0;34m\u001b[0m\u001b[0m\n",
            "\u001b[0;32m<ipython-input-5-2f04ce06df3c>\u001b[0m in \u001b[0;36mget_df_last_partition\u001b[0;34m(zone_path, table_name, partition_column_name)\u001b[0m\n\u001b[1;32m      1\u001b[0m \u001b[0;32mdef\u001b[0m \u001b[0mget_df_last_partition\u001b[0m\u001b[0;34m(\u001b[0m\u001b[0mzone_path\u001b[0m\u001b[0;34m,\u001b[0m \u001b[0mtable_name\u001b[0m\u001b[0;34m,\u001b[0m \u001b[0mpartition_column_name\u001b[0m\u001b[0;34m)\u001b[0m\u001b[0;34m:\u001b[0m\u001b[0;34m\u001b[0m\u001b[0;34m\u001b[0m\u001b[0m\n\u001b[1;32m      2\u001b[0m \u001b[0;34m\u001b[0m\u001b[0m\n\u001b[0;32m----> 3\u001b[0;31m   \u001b[0mdf\u001b[0m \u001b[0;34m=\u001b[0m \u001b[0mspark\u001b[0m\u001b[0;34m.\u001b[0m\u001b[0mread\u001b[0m\u001b[0;34m.\u001b[0m\u001b[0mparquet\u001b[0m\u001b[0;34m(\u001b[0m\u001b[0;34mf'{zone_path}/{table_name}'\u001b[0m\u001b[0;34m)\u001b[0m\u001b[0;34m\u001b[0m\u001b[0;34m\u001b[0m\u001b[0m\n\u001b[0m\u001b[1;32m      4\u001b[0m   \u001b[0mlast_partition\u001b[0m \u001b[0;34m=\u001b[0m \u001b[0mdf\u001b[0m\u001b[0;34m.\u001b[0m\u001b[0magg\u001b[0m\u001b[0;34m(\u001b[0m\u001b[0;34m{\u001b[0m\u001b[0mpartition_column_name\u001b[0m\u001b[0;34m:\u001b[0m \u001b[0;34m\"max\"\u001b[0m\u001b[0;34m}\u001b[0m\u001b[0;34m)\u001b[0m\u001b[0;34m.\u001b[0m\u001b[0mcollect\u001b[0m\u001b[0;34m(\u001b[0m\u001b[0;34m)\u001b[0m\u001b[0;34m[\u001b[0m\u001b[0;36m0\u001b[0m\u001b[0;34m]\u001b[0m\u001b[0;34m[\u001b[0m\u001b[0;36m0\u001b[0m\u001b[0;34m]\u001b[0m\u001b[0;34m\u001b[0m\u001b[0;34m\u001b[0m\u001b[0m\n\u001b[1;32m      5\u001b[0m   \u001b[0mdf_last_partition\u001b[0m \u001b[0;34m=\u001b[0m \u001b[0mdf\u001b[0m\u001b[0;34m.\u001b[0m\u001b[0mfilter\u001b[0m\u001b[0;34m(\u001b[0m\u001b[0mcol\u001b[0m\u001b[0;34m(\u001b[0m\u001b[0mpartition_column_name\u001b[0m\u001b[0;34m)\u001b[0m \u001b[0;34m==\u001b[0m \u001b[0mlast_partition\u001b[0m\u001b[0;34m)\u001b[0m\u001b[0;34m\u001b[0m\u001b[0;34m\u001b[0m\u001b[0m\n",
            "\u001b[0;32m/usr/local/lib/python3.10/dist-packages/pyspark/sql/readwriter.py\u001b[0m in \u001b[0;36mparquet\u001b[0;34m(self, *paths, **options)\u001b[0m\n\u001b[1;32m    542\u001b[0m         )\n\u001b[1;32m    543\u001b[0m \u001b[0;34m\u001b[0m\u001b[0m\n\u001b[0;32m--> 544\u001b[0;31m         \u001b[0;32mreturn\u001b[0m \u001b[0mself\u001b[0m\u001b[0;34m.\u001b[0m\u001b[0m_df\u001b[0m\u001b[0;34m(\u001b[0m\u001b[0mself\u001b[0m\u001b[0;34m.\u001b[0m\u001b[0m_jreader\u001b[0m\u001b[0;34m.\u001b[0m\u001b[0mparquet\u001b[0m\u001b[0;34m(\u001b[0m\u001b[0m_to_seq\u001b[0m\u001b[0;34m(\u001b[0m\u001b[0mself\u001b[0m\u001b[0;34m.\u001b[0m\u001b[0m_spark\u001b[0m\u001b[0;34m.\u001b[0m\u001b[0m_sc\u001b[0m\u001b[0;34m,\u001b[0m \u001b[0mpaths\u001b[0m\u001b[0;34m)\u001b[0m\u001b[0;34m)\u001b[0m\u001b[0;34m)\u001b[0m\u001b[0;34m\u001b[0m\u001b[0;34m\u001b[0m\u001b[0m\n\u001b[0m\u001b[1;32m    545\u001b[0m \u001b[0;34m\u001b[0m\u001b[0m\n\u001b[1;32m    546\u001b[0m     def text(\n",
            "\u001b[0;32m/usr/local/lib/python3.10/dist-packages/py4j/java_gateway.py\u001b[0m in \u001b[0;36m__call__\u001b[0;34m(self, *args)\u001b[0m\n\u001b[1;32m   1320\u001b[0m \u001b[0;34m\u001b[0m\u001b[0m\n\u001b[1;32m   1321\u001b[0m         \u001b[0manswer\u001b[0m \u001b[0;34m=\u001b[0m \u001b[0mself\u001b[0m\u001b[0;34m.\u001b[0m\u001b[0mgateway_client\u001b[0m\u001b[0;34m.\u001b[0m\u001b[0msend_command\u001b[0m\u001b[0;34m(\u001b[0m\u001b[0mcommand\u001b[0m\u001b[0;34m)\u001b[0m\u001b[0;34m\u001b[0m\u001b[0;34m\u001b[0m\u001b[0m\n\u001b[0;32m-> 1322\u001b[0;31m         return_value = get_return_value(\n\u001b[0m\u001b[1;32m   1323\u001b[0m             answer, self.gateway_client, self.target_id, self.name)\n\u001b[1;32m   1324\u001b[0m \u001b[0;34m\u001b[0m\u001b[0m\n",
            "\u001b[0;32m/usr/local/lib/python3.10/dist-packages/pyspark/errors/exceptions/captured.py\u001b[0m in \u001b[0;36mdeco\u001b[0;34m(*a, **kw)\u001b[0m\n\u001b[1;32m    183\u001b[0m                 \u001b[0;31m# Hide where the exception came from that shows a non-Pythonic\u001b[0m\u001b[0;34m\u001b[0m\u001b[0;34m\u001b[0m\u001b[0m\n\u001b[1;32m    184\u001b[0m                 \u001b[0;31m# JVM exception message.\u001b[0m\u001b[0;34m\u001b[0m\u001b[0;34m\u001b[0m\u001b[0m\n\u001b[0;32m--> 185\u001b[0;31m                 \u001b[0;32mraise\u001b[0m \u001b[0mconverted\u001b[0m \u001b[0;32mfrom\u001b[0m \u001b[0;32mNone\u001b[0m\u001b[0;34m\u001b[0m\u001b[0;34m\u001b[0m\u001b[0m\n\u001b[0m\u001b[1;32m    186\u001b[0m             \u001b[0;32melse\u001b[0m\u001b[0;34m:\u001b[0m\u001b[0;34m\u001b[0m\u001b[0;34m\u001b[0m\u001b[0m\n\u001b[1;32m    187\u001b[0m                 \u001b[0;32mraise\u001b[0m\u001b[0;34m\u001b[0m\u001b[0;34m\u001b[0m\u001b[0m\n",
            "\u001b[0;31mAnalysisException\u001b[0m: [PATH_NOT_FOUND] Path does not exist: file:/content/data_lake/trusted/sap_updates."
          ]
        }
      ],
      "source": [
        "%run \"/content/drive/MyDrive/Colab Notebooks/GEMP/notebooks/scenarios/scenarios_code/cu_id_missing.ipynb\"\n"
      ]
    },
    {
      "cell_type": "markdown",
      "source": [
        "#Gnerate CSV Output Files"
      ],
      "metadata": {
        "id": "m41U5pDdOOn4"
      }
    },
    {
      "cell_type": "code",
      "source": [
        "generate_csv_df('logs', 'data_lake') #logs"
      ],
      "metadata": {
        "id": "grRIhtQjcHv-"
      },
      "execution_count": null,
      "outputs": []
    },
    {
      "cell_type": "markdown",
      "source": [
        "#Test"
      ],
      "metadata": {
        "id": "P2AwLozwUWKZ"
      }
    },
    {
      "cell_type": "code",
      "source": [
        "df_sap_updates_trusted.filter((col(\"type_of_sap_update\") == \"Add Equipment\") & (col(\"object_type\") == \"UE_DISC\")) \\\n",
        "  .select(\"id\", \"object_type\", \"floc\", \"description_of_object_type\", \"start_up_date\", \"sort_field_pole_number\").show(truncate=False)\n",
        "\n",
        "drop_partition(logs_path, 'data_quality_log', 'process_datetime', 20250121173807)\n",
        "\n",
        "\n",
        "\n",
        "\n"
      ],
      "metadata": {
        "colab": {
          "base_uri": "https://localhost:8080/"
        },
        "id": "fdYJaJjIUVCe",
        "outputId": "00510ba4-bb7b-4d2b-f05d-20554088cd97"
      },
      "execution_count": null,
      "outputs": [
        {
          "output_type": "stream",
          "name": "stdout",
          "text": [
            "Partición eliminada: /content/data_lake/logs//data_quality_log/process_datetime=20250121173807\n"
          ]
        },
        {
          "output_type": "execute_result",
          "data": {
            "text/plain": [
              "True"
            ]
          },
          "metadata": {},
          "execution_count": 12
        }
      ]
    }
  ],
  "metadata": {
    "colab": {
      "provenance": [],
      "collapsed_sections": [
        "wyxae0_Bn8-_"
      ],
      "include_colab_link": true
    },
    "kernelspec": {
      "display_name": "Python 3",
      "name": "python3"
    },
    "language_info": {
      "name": "python"
    }
  },
  "nbformat": 4,
  "nbformat_minor": 0
}