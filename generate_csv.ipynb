{
  "nbformat": 4,
  "nbformat_minor": 0,
  "metadata": {
    "colab": {
      "provenance": [],
      "authorship_tag": "ABX9TyPmgwnu7RF4PDX4joZbh1od",
      "include_colab_link": true
    },
    "kernelspec": {
      "name": "python3",
      "display_name": "Python 3"
    },
    "language_info": {
      "name": "python"
    }
  },
  "cells": [
    {
      "cell_type": "markdown",
      "metadata": {
        "id": "view-in-github",
        "colab_type": "text"
      },
      "source": [
        "<a href=\"https://colab.research.google.com/github/ugoGS/Py/blob/main/generate_csv.ipynb\" target=\"_parent\"><img src=\"https://colab.research.google.com/assets/colab-badge.svg\" alt=\"Open In Colab\"/></a>"
      ]
    },
    {
      "cell_type": "code",
      "execution_count": null,
      "metadata": {
        "id": "YjbUqX3u1aIS"
      },
      "outputs": [],
      "source": [
        "def generate_csv(table_name):\n",
        "\n",
        "  df = get_df_last_partition(refined_path, table_name, 'process_datetime')\n",
        "\n",
        "  target_path = f\"{delivery_path}/lsmw_files/{process_datetime}\"\n",
        "\n",
        "  fs = spark._jvm.org.apache.hadoop.fs.FileSystem.get(spark._jsc.hadoopConfiguration())\n",
        "  path = spark._jvm.org.apache.hadoop.fs.Path(target_path)\n",
        "\n",
        "  if not fs.exists(path):\n",
        "    fs.mkdirs(path)\n",
        "\n",
        "  df.coalesce(1).write.mode(\"append\").option(\"header\", \"true\").csv(f\"{target_path}/{table_name}_{process_datetime}\")"
      ]
    },
    {
      "cell_type": "code",
      "source": [
        "# def generate_csv_lsmw(df, table_name):\n",
        "\n",
        "#   target_path = f\"{delivery_path}/lsmw_files/{process_datetime}\"\n",
        "\n",
        "#   fs = spark._jvm.org.apache.hadoop.fs.FileSystem.get(spark._jsc.hadoopConfiguration())\n",
        "#   path = spark._jvm.org.apache.hadoop.fs.Path(target_path)\n",
        "\n",
        "#   if not fs.exists(path):\n",
        "#     fs.mkdirs(path)\n",
        "\n",
        "#  #HGS 16/01/2025\n",
        "#   #table_name = table_name.upper()\n",
        "\n",
        "#   df.coalesce(1).write.mode(\"append\").option(\"header\", \"true\").csv(f\"{target_path}/{table_name}_{process_datetime}\")"
      ],
      "metadata": {
        "id": "ZmtW-8sz1_i_"
      },
      "execution_count": null,
      "outputs": []
    },
    {
      "cell_type": "code",
      "source": [
        "\n",
        "def generate_csv_lsmw(df, table_name):\n",
        "\n",
        "  table_name_upper = table_name.upper()\n",
        "\n",
        "  target_path = f\"{delivery_path}/lsmw_files/{process_datetime}/{table_name}_{process_datetime}\"\n",
        "  csv_name = f\"{table_name_upper}_{process_datetime}.csv\"\n",
        "  full_csv_path = f\"{target_path}/{csv_name}\"\n",
        "\n",
        "  # Crear directorio si no existe\n",
        "  fs = spark._jvm.org.apache.hadoop.fs.FileSystem.get(spark._jsc.hadoopConfiguration())\n",
        "  path = spark._jvm.org.apache.hadoop.fs.Path(target_path)\n",
        "\n",
        "  if not fs.exists(path):\n",
        "    fs.mkdirs(path)\n",
        "\n",
        "  # Verificar si ya existe un archivo CSV para el mismo nombre\n",
        "  if os.path.exists(full_csv_path):\n",
        "    # Leer archivo CSV existente usando pandas\n",
        "    existing_df = pd.read_csv(full_csv_path)\n",
        "    new_df = df.toPandas()  # Convertir DataFrame de Spark a pandas\n",
        "    combined_df = pd.concat([existing_df, new_df], ignore_index=True)\n",
        "    #HGS 23/01/2025\n",
        "    combined_df = combined_df.drop_duplicates()  # Drop dulicates\n",
        "    combined_df.to_csv(full_csv_path, index=False)\n",
        "\n",
        "  else:\n",
        "    # Crear nuevo archivo CSV si no existe\n",
        "    df.coalesce(1).write.mode(\"overwrite\").option(\"header\", \"true\").csv(f\"{target_path}\") #/{table_name}_{process_datetime}\")\n"
      ],
      "metadata": {
        "id": "Ubm-oc-VzzvQ"
      },
      "execution_count": null,
      "outputs": []
    },
    {
      "cell_type": "code",
      "source": [
        "def generate_csv_df(table_name, path):\n",
        "\n",
        "  df = get_df_last_partition(path, table_name, 'process_datetime')\n",
        "\n",
        "  target_path = f\"{delivery_path}/other_files/{process_datetime}\"\n",
        "\n",
        "  fs = spark._jvm.org.apache.hadoop.fs.FileSystem.get(spark._jsc.hadoopConfiguration())\n",
        "  path = spark._jvm.org.apache.hadoop.fs.Path(target_path)\n",
        "\n",
        "  if not fs.exists(path):\n",
        "    fs.mkdirs(path)\n",
        "\n",
        "  df.coalesce(1).write.mode(\"append\").option(\"header\", \"true\").csv(f\"{target_path}/{table_name}_{process_datetime}\")"
      ],
      "metadata": {
        "id": "ZzyaBYHCejwZ"
      },
      "execution_count": null,
      "outputs": []
    },
    {
      "cell_type": "code",
      "source": [
        "def rename_csv_file(table_name):\n",
        "\n",
        "  try:\n",
        "    table_name_upper = table_name.upper()\n",
        "\n",
        "    csv_name = f\"{table_name_upper}_{process_datetime}.csv\"\n",
        "    target_path = f\"{delivery_path}/lsmw_files/{process_datetime}/{table_name}_{process_datetime}\"\n",
        "\n",
        "    files = os.listdir(target_path)\n",
        "    # Iterator (find firts available condition)\n",
        "    csv_file = next((file for file in files if file.startswith(\"part-\") and file.endswith(\".csv\")), None)\n",
        "\n",
        "    if csv_file:\n",
        "\n",
        "      old_file_path = os.path.join(target_path, csv_file)\n",
        "      new_file_path = os.path.join(target_path, csv_name)\n",
        "\n",
        "      # Rename the file\n",
        "      shutil.move(old_file_path, new_file_path)\n",
        "\n",
        "      return True\n",
        "\n",
        "    else:\n",
        "      return False\n",
        "\n",
        "  except Exception as e:\n",
        "    print(f\"[rename_csv_file] Unexpected error: {str(e)}\")\n",
        "    return False\n"
      ],
      "metadata": {
        "id": "UYc--799DFV9"
      },
      "execution_count": null,
      "outputs": []
    }
  ]
}