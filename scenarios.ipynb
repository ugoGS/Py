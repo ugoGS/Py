{
  "nbformat": 4,
  "nbformat_minor": 0,
  "metadata": {
    "colab": {
      "provenance": [],
      "authorship_tag": "ABX9TyNZuoc3EBtQvmQKrnlQ29ex",
      "include_colab_link": true
    },
    "kernelspec": {
      "name": "python3",
      "display_name": "Python 3"
    },
    "language_info": {
      "name": "python"
    }
  },
  "cells": [
    {
      "cell_type": "markdown",
      "metadata": {
        "id": "view-in-github",
        "colab_type": "text"
      },
      "source": [
        "<a href=\"https://colab.research.google.com/github/ugoGS/Py/blob/main/scenarios.ipynb\" target=\"_parent\"><img src=\"https://colab.research.google.com/assets/colab-badge.svg\" alt=\"Open In Colab\"/></a>"
      ]
    },
    {
      "cell_type": "markdown",
      "source": [
        "# Initial configuration in Google Colab"
      ],
      "metadata": {
        "id": "dqljRsFY2-D9"
      }
    },
    {
      "cell_type": "code",
      "execution_count": 1,
      "metadata": {
        "colab": {
          "base_uri": "https://localhost:8080/"
        },
        "id": "EhrG5TOFTPIF",
        "outputId": "54fba445-c6ee-4165-ad6f-aa661c7d0dd5"
      },
      "outputs": [
        {
          "output_type": "stream",
          "name": "stdout",
          "text": [
            "Requirement already satisfied: pyspark in /usr/local/lib/python3.10/dist-packages (3.5.3)\n",
            "Requirement already satisfied: py4j==0.10.9.7 in /usr/local/lib/python3.10/dist-packages (from pyspark) (0.10.9.7)\n"
          ]
        }
      ],
      "source": [
        "# Instalar PySpark y findspark\n",
        "!apt-get install openjdk-8-jdk-headless -qq > /dev/null\n",
        "!pip install pyspark\n",
        "!pip install -q findspark"
      ]
    },
    {
      "cell_type": "markdown",
      "source": [
        "# Java and Spark configuration"
      ],
      "metadata": {
        "id": "H7887R6Q3Nyn"
      }
    },
    {
      "cell_type": "code",
      "source": [
        "import os\n",
        "import findspark\n",
        "\n",
        "# Configurar la ruta de Java\n",
        "os.environ[\"JAVA_HOME\"] = \"/usr/lib/jvm/java-8-openjdk-amd64\"\n",
        "\n",
        "# Inicializar findspark\n",
        "findspark.init()"
      ],
      "metadata": {
        "id": "0V_zzB0z3KN3"
      },
      "execution_count": 2,
      "outputs": []
    },
    {
      "cell_type": "markdown",
      "source": [
        "# Mount drive"
      ],
      "metadata": {
        "id": "R7xFBBOH3ER3"
      }
    },
    {
      "cell_type": "code",
      "source": [
        "from google.colab import drive\n",
        "\n",
        "drive.mount('/content/drive')"
      ],
      "metadata": {
        "colab": {
          "base_uri": "https://localhost:8080/"
        },
        "id": "9O8RnFSk3LxX",
        "outputId": "fdf8c7f0-c393-404a-882e-2891a23ca225"
      },
      "execution_count": 3,
      "outputs": [
        {
          "output_type": "stream",
          "name": "stdout",
          "text": [
            "Mounted at /content/drive\n"
          ]
        }
      ]
    },
    {
      "cell_type": "markdown",
      "source": [
        "# Create Spark Session & Import Libraries"
      ],
      "metadata": {
        "id": "nPlZCrLX3Jh_"
      }
    },
    {
      "cell_type": "code",
      "source": [
        "from pyspark.sql import SparkSession\n",
        "from pyspark.sql.functions import regexp_extract, col, lit, concat_ws, when, length, asc, desc, monotonically_increasing_id\n",
        "import json\n",
        "import pandas as pd\n",
        "from pyspark.sql.types import StructType, StructField, StringType, IntegerType, LongType, DateType\n",
        "from pyspark.sql import functions as F\n",
        "from datetime import datetime\n",
        "\n",
        "\n",
        "# Crear una sesión de Spark\n",
        "spark = SparkSession.builder.appName(\"proof of concept\").getOrCreate()\n",
        "spark.conf.set(\"spark.sql.debug.maxToStringFields\", 1000)\n",
        "\n"
      ],
      "metadata": {
        "id": "joaoaHU83MMt"
      },
      "execution_count": 4,
      "outputs": []
    },
    {
      "cell_type": "markdown",
      "source": [
        "# Functions related to Partitions"
      ],
      "metadata": {
        "id": "r4U6rG2r29jw"
      }
    },
    {
      "cell_type": "code",
      "source": [
        "def show_partitions(path_file):\n",
        "\n",
        "  # Leer el archivo parquet\n",
        "  parquet_df = spark.read.parquet(path_file)\n",
        "\n",
        "  # Añadir una columna con el nombre del archivo (que contiene la partición)\n",
        "  partitions_df = parquet_df.withColumn(\"file_name\", F.input_file_name())\n",
        "\n",
        "  # Extraer la partición 'process_datetime' del nombre del archivo\n",
        "  partitions_df = partitions_df.withColumn(\"process_datetime\", F.regexp_extract(F.col(\"file_name\"), \"process_datetime=([^/]+)\", 1))\n",
        "\n",
        "  # Mostrar las particiones únicas\n",
        "  partitions_df.select(\"process_datetime\").distinct().show(truncate=False)"
      ],
      "metadata": {
        "id": "_165M-h23MiC"
      },
      "execution_count": 5,
      "outputs": []
    },
    {
      "cell_type": "code",
      "source": [
        "def get_df_last_partition(zone_path, table_name, partition_column_name):\n",
        "\n",
        "  df = spark.read.parquet(f'{zone_path}/{table_name}')\n",
        "  last_partition = df.agg({partition_column_name: \"max\"}).collect()[0][0]\n",
        "  df_last_partition = df.filter(col(partition_column_name) == last_partition)\n",
        "\n",
        "  return df_last_partition\n"
      ],
      "metadata": {
        "id": "lHxw2tVy4jNq"
      },
      "execution_count": 6,
      "outputs": []
    },
    {
      "cell_type": "code",
      "source": [
        "def read_excel_file_and_generate_partition(excel_file_name, sheet_name_to_load, columns_to_select, column_mapping, table_schema, skip_rows, destination_path, destination_table, process_datetime, table_id):\n",
        "\n",
        "  # Cargar la hoja del excel a un DataFrame de pandas\n",
        "  df_pandas = pd.read_excel(excel_file_name, sheet_name=sheet_name_to_load, skiprows=skip_rows, dtype=str, na_values=[\"\"], keep_default_na=False)\n",
        "\n",
        "  # Reemplazar valores nulos por cadenas vacías\n",
        "  #df_pandas.fillna(\"\", inplace=True)\n",
        "\n",
        "  # Procesar columnas de fecha para mantener el formato original\n",
        "  #df_pandas['start_up_date'] = pd.to_datetime(df_pandas['start_up_date'], dayfirst=True, errors='coerce').dt.strftime('%d/%m/%Y')\n",
        "  #df_pandas['survey_date'] = pd.to_datetime(df_pandas['survey_date'], dayfirst=True, errors='coerce').dt.strftime('%d/%m/%Y')\n",
        "\n",
        "  # Seleccionar las columnas a ser utilizadas\n",
        "  df_pandas = df_pandas[columns_to_select]\n",
        "\n",
        "  # Renombrar las columnas en el DataFrame de Pandas usando el mapeo\n",
        "  df_pandas = df_pandas.rename(columns=column_mapping)\n",
        "\n",
        "  # Convertir el DataFrame de Pandas (con las columnas renombradas) a un DataFrame de PySpark con el esquema definido\n",
        "  df_spark = spark.createDataFrame(df_pandas, schema=table_schema)\n",
        "\n",
        "  # Agregar el campo 'process_datetime' con el valor actual\n",
        "  df_spark = df_spark.withColumn(\"process_datetime\", F.lit(process_datetime))\n",
        "\n",
        "  if (len(table_id) != 0):\n",
        "    # Agregar el campo 'unique_id' basada en el ID incremental y el valor de process_datetime\n",
        "    df_spark = df_spark.withColumn(\"id\", concat_ws(\"_\", lit(table_id), lit(process_datetime), monotonically_increasing_id()))\n",
        "  else:\n",
        "    # Agregar el campo 'unique_id' basada en el ID incremental y el valor de process_datetime\n",
        "    df_spark = df_spark.withColumn(\"id\", concat_ws(\"_\", lit(process_datetime), monotonically_increasing_id()))\n",
        "\n",
        "  # Agregar la partición al archivo parquet\n",
        "  df_spark.write.mode('append').partitionBy('process_datetime').parquet(f'{destination_path}/{destination_table}')\n",
        "\n",
        "\n"
      ],
      "metadata": {
        "id": "bMLOaUG34mtm"
      },
      "execution_count": 7,
      "outputs": []
    },
    {
      "cell_type": "markdown",
      "source": [
        "#Get files from trusted zone"
      ],
      "metadata": {
        "id": "wlfYhnXG4pFc"
      }
    },
    {
      "cell_type": "code",
      "source": [
        "source_path = \"/content/drive/MyDrive/scenarios/trusted/\"\n",
        "\n",
        "#show_partitions(f'{source_path}/main_template')\n",
        "\n",
        "df_main_template_trusted = get_df_last_partition(source_path, \"main_template\", \"process_datetime\")\n",
        "df_sap_updates_trusted = get_df_last_partition(source_path, \"sap_updates\", \"process_datetime\")\n",
        "df_gis_updates_trusted = get_df_last_partition(source_path, \"gis_updates\", \"process_datetime\")\n",
        "df_sap_equipment_report_trusted = get_df_last_partition(source_path, \"sap_equipment_report\", \"process_datetime\")\n"
      ],
      "metadata": {
        "id": "UPxkvZzkBd7H"
      },
      "execution_count": 8,
      "outputs": []
    },
    {
      "cell_type": "markdown",
      "source": [
        "#Schema Log table definition"
      ],
      "metadata": {
        "id": "P8fpfoPcniD-"
      }
    },
    {
      "cell_type": "code",
      "source": [
        "from pyspark.sql.functions import lit, current_timestamp, first, row_number\n",
        "from pyspark.sql.types import IntegerType, StringType, StructType, StructField, TimestampType\n",
        "\n",
        "zone_path = \"/content/data_lake/log/\"\n",
        "\n",
        "# Lucio's schema\n",
        "# new_error = {\n",
        "#         \"ID\": next_id,\n",
        "#         \"ID_DATA\": id_data,\n",
        "#         \"ERROR_TYPE\": error_type,\n",
        "#         \"ERROR_DESC\": error_desc,\n",
        "#         \"COLUMN_NAME\": column_name,\n",
        "#         \"PROCESS_DATETIME\": process_datetime,\n",
        "#         \"INVALID_VALUE\": invalid_value,\n",
        "#         \"STATE\": state,\n",
        "#         \"OPERATION\": operation,\n",
        "#         \"NEW_VALUE\": new_value,\n",
        "#         \"DATE_TIME\": pd.Timestamp.now()\n",
        "#     }\n",
        "\n",
        "schema_log = StructType([\n",
        "    StructField(\"id\", LongType(), False),\n",
        "    StructField(\"id_data\", StringType(), True),\n",
        "    StructField(\"error_type\", StringType(), True),\n",
        "    StructField(\"error_desc\", StringType(), True),\n",
        "    StructField(\"column_name\", StringType(), True),\n",
        "    StructField(\"invalid_value\", StringType(), True),\n",
        "    StructField(\"new_value\", StringType(), True),\n",
        "    StructField(\"state\", StringType(), True),\n",
        "    StructField(\"operation\", StringType(), True),\n",
        "    StructField(\"date_time\", TimestampType(), True),\n",
        "    StructField(\"process_datetime\", LongType(), True)\n",
        "])\n"
      ],
      "metadata": {
        "id": "ncdSmERAnhq6"
      },
      "execution_count": 9,
      "outputs": []
    },
    {
      "cell_type": "markdown",
      "source": [
        "#Dummy data (Add columns to DFs)"
      ],
      "metadata": {
        "id": "wyxae0_Bn8-_"
      }
    },
    {
      "cell_type": "code",
      "source": [
        "#Create a dummy row\n",
        "from pyspark.sql import Row\n",
        "\n",
        "schema_sap_updates = StructType([\n",
        "    StructField('object_type', StringType(), True),\n",
        "    StructField('type_of_sap_update', StringType(), True),\n",
        "    StructField('sap_discrepancy', StringType(), True),\n",
        "    StructField('additional_object_type_notes_and_observations', StringType(), True),\n",
        "    StructField('floc', StringType(), True),\n",
        "    StructField('floc_description', StringType(), True),\n",
        "    StructField('description_of_object_type', StringType(), True),\n",
        "    StructField('sap_equipment_number', LongType(), True),\n",
        "    StructField('cu_id', StringType(), True),\n",
        "    StructField('cyme_id', StringType(), True),\n",
        "    StructField('circuit_number', IntegerType(), True),\n",
        "    StructField('nyseg_line_number', StringType(), True),\n",
        "    StructField('equipment_category', StringType(), True),\n",
        "    StructField('mid', StringType(), True),\n",
        "    StructField('sort_field_pole_number', StringType(), True),\n",
        "    StructField('opco', StringType(), True),\n",
        "    StructField('address_number', StringType(), True),\n",
        "    StructField('street', StringType(), True),\n",
        "    StructField('city', StringType(), True),\n",
        "    StructField('state', StringType(), True),\n",
        "    StructField('postal_code', StringType(), True),\n",
        "    StructField('main_work_center', IntegerType(), True),\n",
        "    StructField('service_center', StringType(), True),\n",
        "    StructField('start_up_date', DateType(), True),\n",
        "    StructField('system_status', StringType(), True),\n",
        "    StructField('status_for_users', StringType(), True),\n",
        "    StructField('changed_on', DateType(), True),\n",
        "    StructField('construction_year', IntegerType(), True),\n",
        "    StructField('construction_month', IntegerType(), True),\n",
        "    StructField('technical_id_work_order', StringType(), True),\n",
        "    StructField('survey_date', DateType(), True),\n",
        "    StructField('proxy_vert', StringType(), True),\n",
        "    StructField('phantom_location', StringType(), True),\n",
        "    StructField('long_text', StringType(), True),\n",
        "    StructField('manufacturer', StringType(), True),\n",
        "    StructField('model_number', StringType(), True),\n",
        "    StructField('manufacturer_serial_number', StringType(), True),\n",
        "    StructField('nameplate_image_captured', StringType(), True),\n",
        "    StructField('ue_capsg_capacitor_type', StringType(), True),\n",
        "    StructField('ue_capsg_circuit_switch_number', StringType(), True),\n",
        "    StructField('ue_capsg_kvar', StringType(), True),\n",
        "    StructField('ue_capsg_nominal_voltage_rating', StringType(), True),\n",
        "    StructField('ue_capsg_number_of_bushings', StringType(), True),\n",
        "    StructField('ue_capsg_number_of_phases', StringType(), True),\n",
        "    StructField('ue_capsg_public_or_private', StringType(), True),\n",
        "    StructField('ue_capsg_scada_controlled', StringType(), True),\n",
        "    StructField(\"ue_capsg_status\", StringType(), True),\n",
        "    StructField('ue_cbank_capacitor_type', StringType(), True),\n",
        "    StructField('ue_cbank_circuit_switch_number', StringType(), True),\n",
        "    StructField('ue_cbank_controlled', StringType(), True),\n",
        "    StructField('ue_cbank_kvar_total', StringType(), True),\n",
        "    StructField('ue_cbank_nominal_voltage_rating', StringType(), True),\n",
        "    StructField(\"ue_cbank_number_of_capacitors\", StringType(), True),\n",
        "    StructField('ue_cbank_number_of_phases', StringType(), True),\n",
        "    StructField('ue_cbank_public_or_private', StringType(), True),\n",
        "    StructField('ue_cbank_scada_controlled', StringType(), True),\n",
        "    StructField('ue_cbank_status', StringType(), True),\n",
        "    StructField('ue_condr_conductor_length', StringType(), True),\n",
        "    StructField('ue_condr_conductor_size', StringType(), True),\n",
        "    StructField('ue_condr_conductor_type', StringType(), True),\n",
        "    StructField('ue_condr_insulation_type', StringType(), True),\n",
        "    StructField('ue_condr_neutral_material', StringType(), True),\n",
        "    StructField('ue_condr_neutral_size', StringType(), True),\n",
        "    StructField('ue_condr_nominal_voltage_rating', StringType(), True),\n",
        "    StructField('ue_condr_location_oh_or_ug', StringType(), True),\n",
        "    StructField('ue_condr_primary_or_secondary', StringType(), True),\n",
        "    StructField('ue_condr_primary_conductor_material', StringType(), True),\n",
        "    StructField('ue_condr_public_length', StringType(), True),\n",
        "    StructField('ue_condr_public_or_private', StringType(), True),\n",
        "    StructField('ue_condr_trailing_span_length', StringType(), True),\n",
        "    StructField('ue_condr_trailing_span_location', StringType(), True),\n",
        "    StructField('ue_condr_trans_or_dist', StringType(), True),\n",
        "    StructField('ue_ctout_character_of_construction', StringType(), True),\n",
        "    StructField('ue_ctout_cutout_rating', StringType(), True),\n",
        "    StructField('ue_ctout_fuse_size', StringType(), True),\n",
        "    StructField('ue_ctout_fuse_type', StringType(), True),\n",
        "    StructField('ue_ctout_material', StringType(), True),\n",
        "    StructField('ue_ctout_nominal_voltage_rating', StringType(), True),\n",
        "    StructField('ue_ctout_phase', StringType(), True),\n",
        "    StructField('ue_ctout_public_or_private', StringType(), True),\n",
        "    StructField('ue_ctout_state', StringType(), True),\n",
        "    StructField('ue_ctout_type', StringType(), True),\n",
        "    StructField('ue_disc_amp_rating', StringType(), True),\n",
        "    StructField('ue_disc_circuit_switch_number', StringType(), True),\n",
        "    StructField('ue_disc_number_of_phases', StringType(), True),\n",
        "    StructField('ue_disc_phase_designation', StringType(), True),\n",
        "    StructField('ue_disc_public_or_private', StringType(), True),\n",
        "    StructField('ue_disc_switch_style', StringType(), True),\n",
        "    StructField('ue_disc_type', StringType(), True),\n",
        "    StructField('ue_pole_circuit_phase_label', StringType(), True),\n",
        "    StructField('ue_pole_class', StringType(), True),\n",
        "    StructField('ue_pole_opco_owner_percent', StringType(), True),\n",
        "    StructField('ue_pole_owner', StringType(), True),\n",
        "    StructField('ue_pole_owner_maintained', StringType(), True),\n",
        "    StructField('ue_pole_pole_length', StringType(), True),\n",
        "    StructField('ue_pole_pole_material', StringType(), True),\n",
        "    StructField('ue_pole_pole_number', StringType(), True),\n",
        "    StructField('ue_pole_between_pole_number_since', StringType(), True),\n",
        "    StructField('ue_pole_between_pole_number_to', StringType(), True),\n",
        "    StructField('ue_pole_pole_type', StringType(), True),\n",
        "    StructField('ue_pole_public_or_private', StringType(), True),\n",
        "    StructField('ue_pole_trans_or_dist', StringType(), True),\n",
        "    StructField('ue_pole_treatment', StringType(), True),\n",
        "    StructField('ue_recl_circuit_switch_number', StringType(), True),\n",
        "    StructField('ue_recl_number_of_phases', StringType(), True),\n",
        "    StructField('ue_recl_public_or_private', StringType(), True),\n",
        "    StructField('ue_recl_recloser_acts_as', StringType(), True),\n",
        "    StructField('ue_recl_scada_controlled', StringType(), True),\n",
        "    StructField('ue_recl_trans_or_dist', StringType(), True),\n",
        "    StructField('ue_reg_circuit_switch_number', StringType(), True),\n",
        "    StructField('ue_reg_kva', StringType(), True),\n",
        "    StructField('ue_reg_phase_designation', StringType(), True),\n",
        "    StructField('ue_reg_public_or_private', StringType(), True),\n",
        "    StructField('ue_reg_scada_controlled', StringType(), True),\n",
        "    StructField('ue_reg_status', StringType(), True),\n",
        "    StructField('ue_sectz_circuit_switch_number', StringType(), True),\n",
        "    StructField('ue_sectz_number_of_phases', StringType(), True),\n",
        "    StructField('ue_sectz_public_or_private', StringType(), True),\n",
        "    StructField('ue_sectz_scada_controlled', StringType(), True),\n",
        "    StructField('ue_ratio_location_oh_or_ug', StringType(), True),\n",
        "    StructField('ue_ratio_number_of_phases', StringType(), True),\n",
        "    StructField('ue_ratio_operating_voltage', StringType(), True),\n",
        "    StructField('ue_ratio_phase_designation', StringType(), True),\n",
        "    StructField('ue_ratio_primary_voltage_text', StringType(), True),\n",
        "    StructField('ue_ratio_public_or_private', StringType(), True),\n",
        "    StructField('ue_ratio_secondary_voltage_text', StringType(), True),\n",
        "    StructField('ue_ratio_size_kva', StringType(), True),\n",
        "    StructField('ue_ratio_status', StringType(), True),\n",
        "    StructField('ue_ratio_subtype_transformer_type', StringType(), True),\n",
        "    StructField('ue_swtch_circuit_switch_number', StringType(), True),\n",
        "    StructField('ue_swtch_load_break', StringType(), True),\n",
        "    StructField('ue_swtch_normal_position', StringType(), True),\n",
        "    StructField('ue_swtch_number_of_phases', StringType(), True),\n",
        "    StructField('ue_swtch_operating_voltage', StringType(), True),\n",
        "    StructField('ue_swtch_phase_designation', StringType(), True),\n",
        "    StructField('ue_swtch_public_or_private', StringType(), True),\n",
        "    StructField('ue_swtch_rated_kv', StringType(), True),\n",
        "    StructField('ue_swtch_state', StringType(), True),\n",
        "    StructField('ue_swtch_scada_controlled', StringType(), True),\n",
        "    StructField('ue_swtch_switch_type', StringType(), True),\n",
        "    StructField('ue_swtgr_amperage', StringType(), True),\n",
        "    StructField('ue_swtgr_fuse_type', StringType(), True),\n",
        "    StructField('ue_swtgr_circuit_switch_number', StringType(), True),\n",
        "    StructField('ue_swtgr_installation_type', StringType(), True),\n",
        "    StructField('ue_swtgr_loadbreak_capability', StringType(), True),\n",
        "    StructField('ue_swtgr_nameplate', StringType(), True),\n",
        "    StructField('ue_swtgr_nominal_voltage_rating', StringType(), True),\n",
        "    StructField('ue_swtgr_public_or_private', StringType(), True),\n",
        "    StructField('ue_swtgr_switchgear_distribution_type', StringType(), True),\n",
        "    StructField('ue_swtgr_trans_or_dist', StringType(), True),\n",
        "    StructField('ue_swtgr_year_installed', StringType(), True),\n",
        "    StructField('ue_xfmer_date_retired_abandoned', StringType(), True),\n",
        "    StructField('ue_xfmer_dual_voltage', StringType(), True),\n",
        "    StructField('ue_xfmer_kva_rating', StringType(), True),\n",
        "    StructField('ue_xfmer_location_oh_or_ug', StringType(), True),\n",
        "    StructField('ue_xfmer_number_of_phases', StringType(), True),\n",
        "    StructField('ue_xfmer_phase_designation', StringType(), True),\n",
        "    StructField('ue_xfmer_primary_voltage_text', StringType(), True),\n",
        "    StructField('ue_xfmer_public_or_private', StringType(), True),\n",
        "    StructField('ue_xfmer_secondary_voltage', StringType(), True),\n",
        "    StructField('ue_xfmer_secondary_voltage_text', StringType(), True),\n",
        "    StructField('ue_xfmer_size_kva', StringType(), True),\n",
        "    StructField('ue_xfmer_transformer_type', StringType(), True),\n",
        "    StructField('ue_xfmer_trans_type', StringType(), True),\n",
        "    StructField('ue_xfmer_year_installed', StringType(), True),\n",
        "    StructField('ue_vaulp_foundation_material', StringType(), True),\n",
        "    StructField('ue_vaulp_opco_owner_percent', StringType(), True),\n",
        "    StructField('ue_vaulp_public_or_private', StringType(), True),\n",
        "    StructField('ue_vaulp_tr_number', StringType(), True),\n",
        "    StructField('ue_vaulp_trans_or_dist', StringType(), True),\n",
        "    StructField('id', StringType(), True),\n",
        "    StructField('process_datetime', LongType(), True)\n",
        "  ])\n",
        "\n",
        "dummy_data = [\n",
        "  Row(object_type=\"UE_CAPSG\",\n",
        "      type_of_sap_update=\"Add Equipment\",\n",
        "      sap_discrepancy=\"New equipment\",\n",
        "      additional_object_type_notes=\"Indicates abandoned in columnn FO\",\n",
        "      floc=\"9301-L0576-1510-0014-ED00047\",\n",
        "      floc_description=\"BOSTON T -1038 -42\",\n",
        "      description_of_object_type=\"TRANSFORMER,DIST,1PH,CSP 120/240 25KVA 4\",\n",
        "      sap_equipment_number=0,\n",
        "      cu_id=None,\n",
        "      cyme_id=None,\n",
        "      circuit_number=3105301,\n",
        "      nyseg_line_number=None,\n",
        "      equipment_category=None,\n",
        "      mid=None,\n",
        "      sort_field_pole_number=\"PO=44\",\n",
        "      opco=\"NYSEG\",\n",
        "      address_number=None,\n",
        "      street=None,\n",
        "      city=\"BOSTON T\",\n",
        "      state=None,\n",
        "      postal_code=None,\n",
        "      main_work_center=51000,\n",
        "      service_center=\"Lancaster Service Center\",\n",
        "      start_up_date=datetime.strptime(\"10/08/2018\", \"%d/%m/%Y\").date(),\n",
        "      system_status=\"INST\",\n",
        "      status_for_users=\"UNOP 4000\",\n",
        "      changed_on=datetime.strptime(\"10/08/2018\", \"%d/%m/%Y\").date(),\n",
        "      construction_year=2018,\n",
        "      construction_month=None,\n",
        "      technical_id_work_order=\"801000000000\",\n",
        "      survey_date=datetime.strptime(\"10/08/2018\", \"%d/%m/%Y\").date(),\n",
        "      proxy_vert=None,\n",
        "      phantom_location=None,\n",
        "      long_text=None,\n",
        "      manufacturer=\"N/A\",\n",
        "      model_number=\"N/A\",\n",
        "      manufacturer_serial_number=\"N/A\",\n",
        "      nameplate_image_captured=None,\n",
        "      ue_capsg_capacitor_type=None,\n",
        "      ue_capsg_circuit_switch_number=None,\n",
        "      ue_capsg_kvar=None,\n",
        "      ue_capsg_nominal_voltage_rating=None,\n",
        "      ue_capsg_number_of_bushings=None,\n",
        "      ue_capsg_number_of_phases=None,\n",
        "      ue_capsg_public_or_private=None,\n",
        "      ue_capsg_scada_controlled=None,\n",
        "      ue_capsg_status=None,\n",
        "      ue_cbank_capacitor_type=None,\n",
        "      ue_cbank_circuit_switch_number=None,\n",
        "      ue_cbank_controlled=None,\n",
        "      ue_cbank_kvar_total=None,\n",
        "      ue_cbank_nominal_voltage_rating=None,\n",
        "      ue_cbank_number_of_capacitors=None,\n",
        "      ue_cbank_number_of_phases=None,\n",
        "      ue_cbank_public_or_private=None,\n",
        "      ue_cbank_scada_controlled=None,\n",
        "      ue_cbank_status=None,\n",
        "      ue_condr_conductor_length=None,\n",
        "      ue_condr_conductor_size=None,\n",
        "      ue_condr_conductor_type=None,\n",
        "      ue_condr_insulation_type=None,\n",
        "      ue_condr_neutral_material=None,\n",
        "      ue_condr_neutral_size=None,\n",
        "      ue_condr_nominal_voltage_rating=None,\n",
        "      ue_condr_location_oh_or_ug=None,\n",
        "      ue_condr_primary_or_secondary=None,\n",
        "      ue_condr_primary_conductor_material=None,\n",
        "      ue_condr_public_length=None,\n",
        "      ue_condr_public_or_private=None,\n",
        "      ue_condr_trailing_span_length=None,\n",
        "      ue_condr_trailing_span_location=None,\n",
        "      ue_condr_trans_or_dist=None,\n",
        "      ue_ctout_character_of_construction=None,\n",
        "      ue_ctout_cutout_rating=None,\n",
        "      ue_ctout_fuse_size=None,\n",
        "      ue_ctout_fuse_type=None,\n",
        "      ue_ctout_material=None,\n",
        "      ue_ctout_nominal_voltage_rating=None,\n",
        "      ue_ctout_phase=None,\n",
        "      ue_ctout_public_or_private=None,\n",
        "      ue_ctout_state=None,\n",
        "      ue_ctout_type=None,\n",
        "      ue_disc_amp_rating=None,\n",
        "      ue_disc_circuit_switch_number=None,\n",
        "      ue_disc_number_of_phases=None,\n",
        "      ue_disc_phase_designation=None,\n",
        "      ue_disc_public_or_private=None,\n",
        "      ue_disc_switch_style=None,\n",
        "      ue_disc_type=None,\n",
        "      ue_pole_circuit_phase_label=None,\n",
        "      ue_pole_class=None,\n",
        "      ue_pole_opco_owner_percent=None,\n",
        "      ue_pole_owner=None,\n",
        "      ue_pole_owner_maintained=None,\n",
        "      ue_pole_pole_length=None,\n",
        "      ue_pole_pole_material=None,\n",
        "      ue_pole_pole_number=None,\n",
        "      ue_pole_between_pole_number_since=None,\n",
        "      ue_pole_between_pole_number_to=None,\n",
        "      ue_pole_pole_type=None,\n",
        "      ue_pole_public_or_private=None,\n",
        "      ue_pole_trans_or_dist=None,\n",
        "      ue_pole_treatment=None,\n",
        "      ue_recl_circuit_switch_number=None,\n",
        "      ue_recl_number_of_phases=None,\n",
        "      ue_recl_public_or_private=None,\n",
        "      ue_recl_recloser_acts_as=None,\n",
        "      ue_recl_scada_controlled=None,\n",
        "      ue_recl_trans_or_dist=None,\n",
        "      ue_reg_circuit_switch_number=None,\n",
        "      ue_reg_kva=None,\n",
        "      ue_reg_phase_designation=None,\n",
        "      ue_reg_public_or_private=None,\n",
        "      ue_reg_scada_controlled=None,\n",
        "      ue_reg_status=None,\n",
        "      ue_sectz_circuit_switch_number=None,\n",
        "      ue_sectz_number_of_phases=None,\n",
        "      ue_sectz_public_or_private=None,\n",
        "      ue_sectz_scada_controlled=None,\n",
        "      ue_ratio_location_oh_or_ug=None,\n",
        "      ue_ratio_number_of_phases=None,\n",
        "      ue_ratio_operating_voltage=None,\n",
        "      ue_ratio_phase_designation=None,\n",
        "      ue_ratio_primary_voltage_text=None,\n",
        "      ue_ratio_public_or_private=None,\n",
        "      ue_ratio_secondary_voltage_text=None,\n",
        "      ue_ratio_size_kva=None,\n",
        "      ue_ratio_status=None,\n",
        "      ue_ratio_subtype_transformer_type=None,\n",
        "      ue_swtch_circuit_switch_number=None,\n",
        "      ue_swtch_load_break=None,\n",
        "      ue_swtch_normal_position=None,\n",
        "      ue_swtch_number_of_phases=None,\n",
        "      ue_swtch_operating_voltage=None,\n",
        "      ue_swtch_phase_designation=None,\n",
        "      ue_swtch_public_or_private=None,\n",
        "      ue_swtch_rated_kv=None,\n",
        "      ue_swtch_state=None,\n",
        "      ue_swtch_scada_controlled=None,\n",
        "      ue_swtch_switch_type=None,\n",
        "      ue_swtgr_amperage=None,\n",
        "      ue_swtgr_fuse_type=None,\n",
        "      ue_swtgr_circuit_switch_number=None,\n",
        "      ue_swtgr_installation_type=None,\n",
        "      ue_swtgr_loadbreak_capability=None,\n",
        "      ue_swtgr_nameplate=None,\n",
        "      ue_swtgr_nominal_voltage_rating=None,\n",
        "      ue_swtgr_public_or_private=None,\n",
        "      ue_swtgr_switchgear_distribution_type=None,\n",
        "      ue_swtgr_trans_or_dist=None,\n",
        "      ue_swtgr_year_installed=None,\n",
        "      ue_xfmer_date_retired_abandoned=None,\n",
        "      ue_xfmer_dual_voltage=None,\n",
        "      ue_xfmer_kva_rating=None,\n",
        "      ue_xfmer_location_oh_or_ug=None,\n",
        "      ue_xfmer_number_of_phases=None,\n",
        "      ue_xfmer_phase_designation=None,\n",
        "      ue_xfmer_primary_voltage_text=None,\n",
        "      ue_xfmer_public_or_private=None,\n",
        "      ue_xfmer_secondary_voltage=None,\n",
        "      ue_xfmer_secondary_voltage_text=None,\n",
        "      ue_xfmer_size_kva=None,\n",
        "      ue_xfmer_transformer_type=None,\n",
        "      ue_xfmer_trans_type=None,\n",
        "      ue_xfmer_year_installed=None,\n",
        "      ue_vaulp_foundation_material=None,\n",
        "      ue_vaulp_opco_owner_percent=None,\n",
        "      ue_vaulp_public_or_private=None,\n",
        "      ue_vaulp_tr_number=None,\n",
        "      ue_vaulp_trans_or_dist=None,\n",
        "      id=\"02_20241129192612_8589934608\",\n",
        "      process_datetime=20241129192612\n",
        "  )\n",
        "]\n",
        "\n",
        "dummy_df = spark.createDataFrame(dummy_data, schema_sap_updates)"
      ],
      "metadata": {
        "id": "nnX6duyPn8Kr"
      },
      "execution_count": 42,
      "outputs": []
    },
    {
      "cell_type": "markdown",
      "source": [
        "#UE_RATIO Scenario 2: Step Transformer Assigned Wrong Object Type"
      ],
      "metadata": {
        "id": "ImcOtj0_IPoz"
      }
    },
    {
      "cell_type": "code",
      "source": [
        "#Pattern to extract \"object_type\" columns\n",
        "pattern = r\"Object type from (\\w+) to (\\w+)\"\n",
        "\n",
        "#df_scenario = df_scenario.filter(col(\"type_of_sap_update\") == \"Modify Equipment\")\n",
        "\n",
        "df_scenario = df_sap_updates_trusted.filter(col(\"sap_discrepancy\").rlike(pattern))\n",
        "\n",
        "df_scenario = df_scenario.withColumn(\"object_type\", regexp_extract(col(\"sap_discrepancy\"), pattern, 1)) \\\n",
        "       .withColumn(\"object_type_updated\", regexp_extract(col(\"sap_discrepancy\"), pattern, 2))\n",
        "\n",
        "#Log table\n",
        "\n",
        "df_scenario_log_data = df_scenario.select(F.monotonically_increasing_id().alias(\"id\"), F.col(\"id\").alias(\"id_data\"), F.col(\"type_of_sap_update\").alias(\"error_type\"), F.col(\"sap_discrepancy\").alias(\"error_desc\"), F.lit(\"object_type\").alias(\"column_name\"),\n",
        "                                     F.col(\"object_type\").alias(\"invalid_value\"), F.col(\"object_type_updated\").alias(\"new_value\"), F.lit(\"TRUSTED\").alias(\"state\"), F.lit(\"UPDATE\").alias(\"operation\"),\n",
        "                                     F.current_timestamp().cast(TimestampType()).alias(\"date_time\"), \"process_datetime\").collect()\n",
        "\n",
        "df_scenario_log = spark.createDataFrame(df_scenario_log_data, schema=schema_log)\n",
        "\n",
        "#Script ZIUSACHOBJTYPE - Change Object (CSV)\n",
        "\n",
        "lsmw_ziusachobjtype = df_scenario.select(col(\"sap_equipment_number\").alias(\"equnr\"),\n",
        "                              col(\"object_type_updated\").alias(\"equart\"),\n",
        "                              \"process_datetime\")\n",
        "\n",
        "\n",
        "df_scenario_log.show(truncate=False)\n",
        "lsmw_ziusachobjtype.show()\n",
        "\n",
        "df_scenario_log.write.mode('overwrite').partitionBy('process_datetime').parquet(f'{zone_path}/data_quality_log')\n",
        "lsmw_ziusachobjtype.write.csv(f\"{zone_path}/lsmw_ziusachobjtype\", header=True, mode=\"overwrite\")\n",
        "\n",
        "'''\n",
        "ZIUSACRATTCHEQ: Create Attach Equipment ​\n",
        "\n",
        "  Reference equipment​\n",
        "\n",
        "  Equipment Description​\n",
        "\n",
        "  Start-Up Date Format MM/DD/YYYY​\n",
        "\n",
        "  Construction Year​\n",
        "\n",
        "  Construction Month​\n",
        "\n",
        "  Functional Location​\n",
        "\n",
        "  Sort Field​\n",
        "'''"
      ],
      "metadata": {
        "colab": {
          "base_uri": "https://localhost:8080/",
          "height": 747
        },
        "id": "cH5Nr36RIN6t",
        "outputId": "f7bbbfcd-802b-4cf7-8c28-d8b912022b47",
        "collapsed": true
      },
      "execution_count": 11,
      "outputs": [
        {
          "output_type": "stream",
          "name": "stdout",
          "text": [
            "+----------+----------------------------+----------------+-------------------------------------+-----------+-------------+---------+-------+---------+-----------------------+----------------+\n",
            "|id        |id_data                     |error_type      |error_desc                           |column_name|invalid_value|new_value|state  |operation|date_time              |process_datetime|\n",
            "+----------+----------------------------+----------------+-------------------------------------+-----------+-------------+---------+-------+---------+-----------------------+----------------+\n",
            "|0         |02_20241129192612_2         |Modify Equipment|Object type from UE_SWTCH to UE_CTOTS|object_type|UE_SWTCH     |UE_CTOTS |TRUSTED|UPDATE   |2024-12-10 00:31:14.264|20241129192612  |\n",
            "|1         |02_20241129192612_3         |Modify Equipment|Object type from UE_SWTCH to UE_CTOTS|object_type|UE_SWTCH     |UE_CTOTS |TRUSTED|UPDATE   |2024-12-10 00:31:14.264|20241129192612  |\n",
            "|2         |02_20241129192612_4         |Modify Equipment|Object type from UE_SWTCH to UE_CTOTS|object_type|UE_SWTCH     |UE_CTOTS |TRUSTED|UPDATE   |2024-12-10 00:31:14.264|20241129192612  |\n",
            "|3         |02_20241129192612_5         |Modify Equipment|Object type from UE_SWTCH to UE_CTOTS|object_type|UE_SWTCH     |UE_CTOTS |TRUSTED|UPDATE   |2024-12-10 00:31:14.264|20241129192612  |\n",
            "|4         |02_20241129192612_6         |Modify Equipment|Object type from UE_SWTCH to UE_CTOTS|object_type|UE_SWTCH     |UE_CTOTS |TRUSTED|UPDATE   |2024-12-10 00:31:14.264|20241129192612  |\n",
            "|5         |02_20241129192612_7         |Modify Equipment|Object type from UE_SWTCH to UE_CTOTS|object_type|UE_SWTCH     |UE_CTOTS |TRUSTED|UPDATE   |2024-12-10 00:31:14.264|20241129192612  |\n",
            "|6         |02_20241129192612_9         |Modify Equipment|Object type from UE_SWTCH to UE_DISC |object_type|UE_SWTCH     |UE_DISC  |TRUSTED|UPDATE   |2024-12-10 00:31:14.264|20241129192612  |\n",
            "|7         |02_20241129192612_10        |Modify Equipment|Object type from UE_SWTCH to UE_DISC |object_type|UE_SWTCH     |UE_DISC  |TRUSTED|UPDATE   |2024-12-10 00:31:14.264|20241129192612  |\n",
            "|8         |02_20241129192612_11        |Modify Equipment|Object type from UE_SWTCH to UE_DISC |object_type|UE_SWTCH     |UE_DISC  |TRUSTED|UPDATE   |2024-12-10 00:31:14.264|20241129192612  |\n",
            "|8589934592|02_20241129192612_8589934598|Modify Equipment|Object type from UE_SWTCH to UE_CTOTS|object_type|UE_SWTCH     |UE_CTOTS |TRUSTED|UPDATE   |2024-12-10 00:31:14.264|20241129192612  |\n",
            "|8589934593|02_20241129192612_8589934599|Modify Equipment|Object type from UE_SWTCH to UE_CTOTS|object_type|UE_SWTCH     |UE_CTOTS |TRUSTED|UPDATE   |2024-12-10 00:31:14.264|20241129192612  |\n",
            "|8589934594|02_20241129192612_8589934600|Modify Equipment|Object type from UE_SWTCH to UE_CTOTS|object_type|UE_SWTCH     |UE_CTOTS |TRUSTED|UPDATE   |2024-12-10 00:31:14.264|20241129192612  |\n",
            "|8589934595|02_20241129192612_8589934601|Modify Equipment|Object type from UE_SWTCH to UE_CTOTS|object_type|UE_SWTCH     |UE_CTOTS |TRUSTED|UPDATE   |2024-12-10 00:31:14.264|20241129192612  |\n",
            "|8589934596|02_20241129192612_8589934602|Modify Equipment|Object type from UE_SWTCH to UE_CTOTS|object_type|UE_SWTCH     |UE_CTOTS |TRUSTED|UPDATE   |2024-12-10 00:31:14.264|20241129192612  |\n",
            "|8589934597|02_20241129192612_8589934603|Modify Equipment|Object type from UE_SWTCH to UE_CTOTS|object_type|UE_SWTCH     |UE_CTOTS |TRUSTED|UPDATE   |2024-12-10 00:31:14.264|20241129192612  |\n",
            "+----------+----------------------------+----------------+-------------------------------------+-----------+-------------+---------+-------+---------+-----------------------+----------------+\n",
            "\n",
            "+------------+--------+----------------+\n",
            "|       equnr|  equart|process_datetime|\n",
            "+------------+--------+----------------+\n",
            "|100017077123|UE_CTOTS|  20241129192612|\n",
            "|100017077124|UE_CTOTS|  20241129192612|\n",
            "|100017077125|UE_CTOTS|  20241129192612|\n",
            "|100017077126|UE_CTOTS|  20241129192612|\n",
            "|100017077127|UE_CTOTS|  20241129192612|\n",
            "|100017077128|UE_CTOTS|  20241129192612|\n",
            "|100017077120| UE_DISC|  20241129192612|\n",
            "|100017077121| UE_DISC|  20241129192612|\n",
            "|100017077122| UE_DISC|  20241129192612|\n",
            "|100017249121|UE_CTOTS|  20241129192612|\n",
            "|100017249122|UE_CTOTS|  20241129192612|\n",
            "|100017249123|UE_CTOTS|  20241129192612|\n",
            "|100017249124|UE_CTOTS|  20241129192612|\n",
            "|100017249125|UE_CTOTS|  20241129192612|\n",
            "|100017249126|UE_CTOTS|  20241129192612|\n",
            "+------------+--------+----------------+\n",
            "\n"
          ]
        },
        {
          "output_type": "execute_result",
          "data": {
            "text/plain": [
              "'\\nZIUSACRATTCHEQ: Create Attach Equipment \\u200b\\n\\n  Reference equipment\\u200b\\n\\n  Equipment Description\\u200b\\n\\n  Start-Up Date Format MM/DD/YYYY\\u200b\\n\\n  Construction Year\\u200b\\n\\n  Construction Month\\u200b\\n\\n  Functional Location\\u200b\\n\\n  Sort Field\\u200b\\n'"
            ],
            "application/vnd.google.colaboratory.intrinsic+json": {
              "type": "string"
            }
          },
          "metadata": {},
          "execution_count": 11
        }
      ]
    },
    {
      "cell_type": "markdown",
      "source": [
        "#UE_CAPSG Scenario 1: Serialized Equipment in Field – Not in SAP​"
      ],
      "metadata": {
        "id": "OZd2xUvvPiOK"
      }
    },
    {
      "cell_type": "code",
      "source": [
        "df1 = df_sap_updates_trusted.union(dummy_df) #added columns\n",
        "df2 = df_sap_equipment_report_trusted\n",
        "\n",
        "df1.createOrReplaceTempView(\"df1\")\n",
        "df2.createOrReplaceTempView(\"df2\")\n",
        "\n",
        "#Select columns to script ZIUSACRKTYPEQ: Create Equipment Category K from Reference\n",
        "#Find objects not in SAP\n",
        "\n",
        "missing_records = spark.sql(\"\"\"\n",
        "    SELECT *\n",
        "    FROM df1\n",
        "    LEFT ANTI JOIN df2\n",
        "    ON df1.floc = df2.floc\n",
        "    AND df1.sap_equipment_number = df2.sap_equipment_number\n",
        "    WHERE df1.object_type = 'UE_CAPSG'\n",
        "\"\"\")\n",
        "\n",
        "lsmw_ziusacrktypeq = spark.sql(\"\"\"\n",
        "    SELECT df1.floc, df1.sap_equipment_number, df1.object_type, df1.equipment_category, df1.start_up_date, df1.construction_month, df1.construction_year, df1.mid, df1.manufacturer_serial_number, df1.id\n",
        "    FROM df1\n",
        "    LEFT ANTI JOIN df2\n",
        "    ON df1.floc = df2.floc AND df1.sap_equipment_number = df2.sap_equipment_number\n",
        "    WHERE df1.object_type = 'UE_CAPSG'\n",
        "\"\"\")\n",
        "\n",
        "\n",
        "#Log table\n",
        "\n",
        "df_scenario_log_data = missing_records.select(F.monotonically_increasing_id().alias(\"id\"), F.col(\"id\").alias(\"id_data\"), F.col(\"type_of_sap_update\").alias(\"error_type\"), F.col(\"sap_discrepancy\").alias(\"error_desc\"), F.lit(\"sap_equipment_number\").alias(\"column_name\"),\n",
        "                                     F.col(\"sap_equipment_number\").alias(\"invalid_value\"), F.lit(\"NEW_VALUE\").alias(\"new_value\"), F.lit(\"TRUSTED\").alias(\"state\"), F.lit(\"CREATE\").alias(\"operation\"),\n",
        "                                     F.current_timestamp().cast(TimestampType()).alias(\"date_time\"), \"process_datetime\").collect()\n",
        "\n",
        "df_scenario_log = spark.createDataFrame(df_scenario_log_data, schema=schema_log)\n",
        "\n",
        "\n",
        "#Script ZIUSACRKTYPEQ\n",
        "\n",
        "df_scenario_log.show(truncate=False)\n",
        "lsmw_ziusacrktypeq.show(truncate=False)\n",
        "\n",
        "df_scenario_log.write.mode('overwrite').partitionBy('process_datetime').parquet(f'{zone_path}/data_quality_log')\n",
        "lsmw_ziusacrktypeq.write.csv(f\"{zone_path}/lsmw_ziusacrktypeq\", header=True, mode=\"overwrite\")\n",
        "\n",
        "#nyseg_line_number, sort_field_pole_number, description_of_object_type, long_text"
      ],
      "metadata": {
        "colab": {
          "base_uri": "https://localhost:8080/"
        },
        "id": "11s48zK0xRbE",
        "outputId": "3926ae0e-9ad0-4751-bb84-bc068b8d9a74"
      },
      "execution_count": 56,
      "outputs": [
        {
          "output_type": "stream",
          "name": "stdout",
          "text": [
            "+-----------+----------------------------+-------------+-------------+--------------------+-------------+---------+-------+---------+-----------------------+----------------+\n",
            "|id         |id_data                     |error_type   |error_desc   |column_name         |invalid_value|new_value|state  |operation|date_time              |process_datetime|\n",
            "+-----------+----------------------------+-------------+-------------+--------------------+-------------+---------+-------+---------+-----------------------+----------------+\n",
            "|25769803776|02_20241129192612_8589934608|Add Equipment|New equipment|sap_equipment_number|0            |NEW_VALUE|TRUSTED|CREATE   |2024-12-10 01:48:44.862|20241129192612  |\n",
            "+-----------+----------------------------+-------------+-------------+--------------------+-------------+---------+-------+---------+-----------------------+----------------+\n",
            "\n",
            "+----------------------------+--------------------+-----------+------------------+-------------+------------------+-----------------+----+--------------------------+----------------------------+\n",
            "|floc                        |sap_equipment_number|object_type|equipment_category|start_up_date|construction_month|construction_year|mid |manufacturer_serial_number|id                          |\n",
            "+----------------------------+--------------------+-----------+------------------+-------------+------------------+-----------------+----+--------------------------+----------------------------+\n",
            "|9301-L0576-1510-0014-ED00047|0                   |UE_CAPSG   |NULL              |2018-08-10   |NULL              |2018             |NULL|N/A                       |02_20241129192612_8589934608|\n",
            "+----------------------------+--------------------+-----------+------------------+-------------+------------------+-----------------+----+--------------------------+----------------------------+\n",
            "\n"
          ]
        }
      ]
    },
    {
      "cell_type": "markdown",
      "source": [
        "#Non-Load Break Switch (UE_DISC) - Scenario 2: Disconnect Switch in Field, Not n Records: Non-Serialized Equipment - FLOC Exists"
      ],
      "metadata": {
        "id": "ZBx9AtdFQjwi"
      }
    },
    {
      "cell_type": "code",
      "source": [
        "df1 = df_sap_updates_trusted.union(dummy_df) #added columns\n",
        "df2 = df_sap_equipment_report_trusted\n",
        "\n",
        "df1.createOrReplaceTempView(\"df1\")\n",
        "df2.createOrReplaceTempView(\"df2\")\n",
        "\n",
        "#Select columns to script ZIUSACRKTYPEQ: Create Equipment Category K from Reference\n",
        "#Find objects not in SAP\n",
        "\n",
        "missing_records = spark.sql(\"\"\"\n",
        "    SELECT *\n",
        "    FROM df1\n",
        "    LEFT ANTI JOIN df2\n",
        "    ON df1.floc = df2.floc\n",
        "    AND df1.sap_equipment_number = df2.sap_equipment_number\n",
        "    WHERE df1.object_type = 'UE_DISC'\n",
        "\"\"\")\n",
        "\n",
        "#Script ZIUSACRKTYPEQ\n",
        "lsmw_ziusacrktypeq = spark.sql(\"\"\"\n",
        "    SELECT df1.floc, df1.sap_equipment_number, df1.object_type, df1.equipment_category, df1.start_up_date, df1.construction_month, df1.construction_year, df1.mid, df1.manufacturer_serial_number, df1.id\n",
        "    FROM df1\n",
        "    LEFT ANTI JOIN df2\n",
        "    ON df1.floc = df2.floc AND df1.sap_equipment_number = df2.sap_equipment_number\n",
        "    WHERE df1.object_type = 'UE_DISC'\n",
        "\"\"\")\n",
        "\n",
        "#Script ZIUSAINACEQUI\n",
        "lsmw_ziusainecequi = spark.sql(\"\"\"\n",
        "    SELECT df1.sap_equipment_number, df1.description_of_object_type, df1.long_text\n",
        "    FROM df1\n",
        "    LEFT ANTI JOIN df2\n",
        "    ON df1.floc = df2.floc AND df1.sap_equipment_number = df2.sap_equipment_number\n",
        "    WHERE df1.object_type = 'UE_DISC'\n",
        "\"\"\")\n",
        "\n",
        "#Log table\n",
        "\n",
        "df_scenario_log_data = missing_records.select(F.monotonically_increasing_id().alias(\"id\"), F.col(\"id\").alias(\"id_data\"), F.col(\"type_of_sap_update\").alias(\"error_type\"), F.col(\"sap_discrepancy\").alias(\"error_desc\"), F.lit(\"sap_equipment_number\").alias(\"column_name\"),\n",
        "                                     F.col(\"sap_equipment_number\").alias(\"invalid_value\"), F.lit(\"NEW_VALUE\").alias(\"new_value\"), F.lit(\"TRUSTED\").alias(\"state\"), F.lit(\"CREATE\").alias(\"operation\"),\n",
        "                                     F.current_timestamp().cast(TimestampType()).alias(\"date_time\"), \"process_datetime\").collect()\n",
        "\n",
        "df_scenario_log = spark.createDataFrame(df_scenario_log_data, schema=schema_log)\n",
        "\n",
        "df_scenario_log.show(truncate=False)\n",
        "lsmw_ziusacrktypeq.show(truncate=False)\n",
        "lsmw_ziusainecequi.show(truncate=False)\n",
        "\n",
        "df_scenario_log.write.mode('overwrite').partitionBy('process_datetime').parquet(f'{zone_path}/data_quality_log')\n",
        "lsmw_ziusacrktypeq.write.csv(f\"{zone_path}/lsmw_ziusacrktypeq\", header=True, mode=\"overwrite\")\n",
        "lsmw_ziusacrktypeq.write.csv(f\"{zone_path}/lsmw_ziusainecequi\", header=True, mode=\"overwrite\")\n",
        "\n",
        "#nyseg_line_number, sort_field_pole_number, description_of_object_type, long_text"
      ],
      "metadata": {
        "colab": {
          "base_uri": "https://localhost:8080/"
        },
        "id": "8OnRut2wQptg",
        "outputId": "4c2066fd-7275-4ae4-c79e-8a44e399cf56"
      },
      "execution_count": 60,
      "outputs": [
        {
          "output_type": "stream",
          "name": "stdout",
          "text": [
            "+----------+----------------------------+-------------+---------------+--------------------+-------------+---------+-------+---------+-----------------------+----------------+\n",
            "|id        |id_data                     |error_type   |error_desc     |column_name         |invalid_value|new_value|state  |operation|date_time              |process_datetime|\n",
            "+----------+----------------------------+-------------+---------------+--------------------+-------------+---------+-------+---------+-----------------------+----------------+\n",
            "|8589934592|02_20241129192612_8589934605|Add Equipment|Provide details|sap_equipment_number|0            |NEW_VALUE|TRUSTED|CREATE   |2024-12-10 01:56:35.667|20241129192612  |\n",
            "|8589934593|02_20241129192612_8589934606|Add Equipment|Provide details|sap_equipment_number|0            |NEW_VALUE|TRUSTED|CREATE   |2024-12-10 01:56:35.667|20241129192612  |\n",
            "|8589934594|02_20241129192612_8589934607|Add Equipment|Provide details|sap_equipment_number|0            |NEW_VALUE|TRUSTED|CREATE   |2024-12-10 01:56:35.667|20241129192612  |\n",
            "+----------+----------------------------+-------------+---------------+--------------------+-------------+---------+-------+---------+-----------------------+----------------+\n",
            "\n",
            "+----------------------------+--------------------+-----------+------------------+-------------+------------------+-----------------+---+--------------------------+----------------------------+\n",
            "|floc                        |sap_equipment_number|object_type|equipment_category|start_up_date|construction_month|construction_year|mid|manufacturer_serial_number|id                          |\n",
            "+----------------------------+--------------------+-----------+------------------+-------------+------------------+-----------------+---+--------------------------+----------------------------+\n",
            "|9301-L0576-1510-0122-ED00139|0                   |UE_DISC    |NaN               |NULL         |NULL              |NULL             |N/A|N/A                       |02_20241129192612_8589934605|\n",
            "|9301-L0576-1510-0122-ED00139|0                   |UE_DISC    |NaN               |NULL         |NULL              |NULL             |N/A|N/A                       |02_20241129192612_8589934606|\n",
            "|9301-L0576-1510-0122-ED00139|0                   |UE_DISC    |NaN               |NULL         |NULL              |NULL             |N/A|N/A                       |02_20241129192612_8589934607|\n",
            "+----------------------------+--------------------+-----------+------------------+-------------+------------------+-----------------+---+--------------------------+----------------------------+\n",
            "\n",
            "+--------------------+--------------------------+---------+\n",
            "|sap_equipment_number|description_of_object_type|long_text|\n",
            "+--------------------+--------------------------+---------+\n",
            "|0                   |NaN                       |NaN      |\n",
            "|0                   |NaN                       |NaN      |\n",
            "|0                   |NaN                       |NaN      |\n",
            "+--------------------+--------------------------+---------+\n",
            "\n"
          ]
        }
      ]
    },
    {
      "cell_type": "markdown",
      "source": [
        "#Cutouts (UE_CTOUT) - Scenario 1: Non-Serialized Equipment (Non Pre-Cap) on Record – Not in Field​"
      ],
      "metadata": {
        "id": "xXAcX3sS8KdF"
      }
    },
    {
      "cell_type": "code",
      "source": [
        "df1 = df_main_template_trusted\n",
        "df2 = df_sap_equipment_report_trusted\n",
        "\n",
        "df1.createOrReplaceTempView(\"df1\")\n",
        "df2.createOrReplaceTempView(\"df2\")\n",
        "\n",
        "#Compare Main Template vs SAP Equipment Report\n",
        "\n",
        "missing_records = spark.sql(\"\"\"\n",
        "    SELECT *\n",
        "    FROM df2\n",
        "    LEFT ANTI JOIN df1\n",
        "    ON df1.floc = df2.floc AND df1.sap_equipment_number = df2.sap_equipment_number\n",
        "\"\"\")\n",
        "\n",
        "\n",
        "#Log table\n",
        "\n",
        "df_scenario_log_data = df_scenario.select(F.monotonically_increasing_id().alias(\"id\"), F.col(\"id\").alias(\"id_data\"),\n",
        "                                     F.lit(\"Remove Equipment\").alias(\"error_type\"), F.lit(\"Equipment not found in field during GMEP Field Survey. Equipment record removed from FLOC\").alias(\"error_desc\"),\n",
        "                                     F.lit(\"N/A\").alias(\"column_name\"),\n",
        "                                     F.col(\"sap_equipment_number\").alias(\"invalid_value\"), F.lit(\"DISMANTELED\").alias(\"new_value\"), F.lit(\"DISMANTELED\").alias(\"state\"), F.lit(\"DELETE\").alias(\"operation\"),\n",
        "                                     F.current_timestamp().cast(TimestampType()).alias(\"date_time\"), \"process_datetime\").collect()\n",
        "\n",
        "df_scenario_log = spark.createDataFrame(df_scenario_log_data, schema=schema_log)\n",
        "\n",
        "df_scenario_log.show(truncate=False)\n"
      ],
      "metadata": {
        "colab": {
          "base_uri": "https://localhost:8080/"
        },
        "id": "ReHx91I38JNG",
        "outputId": "92cf5bab-2d82-4271-eebe-e4ecc60cd418"
      },
      "execution_count": 51,
      "outputs": [
        {
          "output_type": "stream",
          "name": "stdout",
          "text": [
            "+----------+----------------------------+----------------+-----------------------------------------------------------------------------------------+-----------+-------------+-----------+-----------+---------+-----------------------+----------------+\n",
            "|id        |id_data                     |error_type      |error_desc                                                                               |column_name|invalid_value|new_value  |state      |operation|date_time              |process_datetime|\n",
            "+----------+----------------------------+----------------+-----------------------------------------------------------------------------------------+-----------+-------------+-----------+-----------+---------+-----------------------+----------------+\n",
            "|0         |02_20241129192612_2         |Remove Equipment|Equipment not found in field during GMEP Field Survey. Equipment record removed from FLOC|N/A        |100017077123 |DISMANTELED|DISMANTELED|DELETE   |2024-12-10 01:30:08.215|20241129192612  |\n",
            "|1         |02_20241129192612_3         |Remove Equipment|Equipment not found in field during GMEP Field Survey. Equipment record removed from FLOC|N/A        |100017077124 |DISMANTELED|DISMANTELED|DELETE   |2024-12-10 01:30:08.215|20241129192612  |\n",
            "|2         |02_20241129192612_4         |Remove Equipment|Equipment not found in field during GMEP Field Survey. Equipment record removed from FLOC|N/A        |100017077125 |DISMANTELED|DISMANTELED|DELETE   |2024-12-10 01:30:08.215|20241129192612  |\n",
            "|3         |02_20241129192612_5         |Remove Equipment|Equipment not found in field during GMEP Field Survey. Equipment record removed from FLOC|N/A        |100017077126 |DISMANTELED|DISMANTELED|DELETE   |2024-12-10 01:30:08.215|20241129192612  |\n",
            "|4         |02_20241129192612_6         |Remove Equipment|Equipment not found in field during GMEP Field Survey. Equipment record removed from FLOC|N/A        |100017077127 |DISMANTELED|DISMANTELED|DELETE   |2024-12-10 01:30:08.215|20241129192612  |\n",
            "|5         |02_20241129192612_7         |Remove Equipment|Equipment not found in field during GMEP Field Survey. Equipment record removed from FLOC|N/A        |100017077128 |DISMANTELED|DISMANTELED|DELETE   |2024-12-10 01:30:08.215|20241129192612  |\n",
            "|6         |02_20241129192612_9         |Remove Equipment|Equipment not found in field during GMEP Field Survey. Equipment record removed from FLOC|N/A        |100017077120 |DISMANTELED|DISMANTELED|DELETE   |2024-12-10 01:30:08.215|20241129192612  |\n",
            "|7         |02_20241129192612_10        |Remove Equipment|Equipment not found in field during GMEP Field Survey. Equipment record removed from FLOC|N/A        |100017077121 |DISMANTELED|DISMANTELED|DELETE   |2024-12-10 01:30:08.215|20241129192612  |\n",
            "|8         |02_20241129192612_11        |Remove Equipment|Equipment not found in field during GMEP Field Survey. Equipment record removed from FLOC|N/A        |100017077122 |DISMANTELED|DISMANTELED|DELETE   |2024-12-10 01:30:08.215|20241129192612  |\n",
            "|8589934592|02_20241129192612_8589934598|Remove Equipment|Equipment not found in field during GMEP Field Survey. Equipment record removed from FLOC|N/A        |100017249121 |DISMANTELED|DISMANTELED|DELETE   |2024-12-10 01:30:08.215|20241129192612  |\n",
            "|8589934593|02_20241129192612_8589934599|Remove Equipment|Equipment not found in field during GMEP Field Survey. Equipment record removed from FLOC|N/A        |100017249122 |DISMANTELED|DISMANTELED|DELETE   |2024-12-10 01:30:08.215|20241129192612  |\n",
            "|8589934594|02_20241129192612_8589934600|Remove Equipment|Equipment not found in field during GMEP Field Survey. Equipment record removed from FLOC|N/A        |100017249123 |DISMANTELED|DISMANTELED|DELETE   |2024-12-10 01:30:08.215|20241129192612  |\n",
            "|8589934595|02_20241129192612_8589934601|Remove Equipment|Equipment not found in field during GMEP Field Survey. Equipment record removed from FLOC|N/A        |100017249124 |DISMANTELED|DISMANTELED|DELETE   |2024-12-10 01:30:08.215|20241129192612  |\n",
            "|8589934596|02_20241129192612_8589934602|Remove Equipment|Equipment not found in field during GMEP Field Survey. Equipment record removed from FLOC|N/A        |100017249125 |DISMANTELED|DISMANTELED|DELETE   |2024-12-10 01:30:08.215|20241129192612  |\n",
            "|8589934597|02_20241129192612_8589934603|Remove Equipment|Equipment not found in field during GMEP Field Survey. Equipment record removed from FLOC|N/A        |100017249126 |DISMANTELED|DISMANTELED|DELETE   |2024-12-10 01:30:08.215|20241129192612  |\n",
            "+----------+----------------------------+----------------+-----------------------------------------------------------------------------------------+-----------+-------------+-----------+-----------+---------+-----------------------+----------------+\n",
            "\n"
          ]
        }
      ]
    }
  ]
}