{
  "nbformat": 4,
  "nbformat_minor": 0,
  "metadata": {
    "colab": {
      "provenance": [],
      "authorship_tag": "ABX9TyOi0AOpkrBQ6Q7Dp1ZVLe4s",
      "include_colab_link": true
    },
    "kernelspec": {
      "name": "python3",
      "display_name": "Python 3"
    },
    "language_info": {
      "name": "python"
    }
  },
  "cells": [
    {
      "cell_type": "markdown",
      "metadata": {
        "id": "view-in-github",
        "colab_type": "text"
      },
      "source": [
        "<a href=\"https://colab.research.google.com/github/ugoGS/Py/blob/py_add/LSMW_Scripts_functions.ipynb\" target=\"_parent\"><img src=\"https://colab.research.google.com/assets/colab-badge.svg\" alt=\"Open In Colab\"/></a>"
      ]
    },
    {
      "cell_type": "markdown",
      "source": [
        "#ZIUSACRATTCHEQ: Create Attach Equipment\n"
      ],
      "metadata": {
        "id": "PrCBt9ntZxJ0"
      }
    },
    {
      "cell_type": "code",
      "execution_count": null,
      "metadata": {
        "id": "fC_SDfUJ47cw"
      },
      "outputs": [],
      "source": [
        "def lsmw_ziusachobjtype_script(df_input):\n",
        "\n",
        "  try:\n",
        "\n",
        "    lsmw_ziusachobjtype_schema = StructType([\n",
        "      StructField(\"id_data\", StringType(), True),\n",
        "      StructField(\"EQUNR\", StringType(), True),\n",
        "      StructField(\"EQUART\", StringType(), True),\n",
        "      StructField(\"date_time\", TimestampType(), True),\n",
        "      StructField(\"process_datetime\", StringType(), True)\n",
        "    ])\n",
        "\n",
        "      # Crear y transformar filas de error directamente en un RDD\n",
        "    rdd_errors = df_input.rdd.map(\n",
        "        lambda row: (\n",
        "            row[\"id_data\"],\n",
        "            row[\"sap_equipment_number\"],\n",
        "            row[\"new_value\"],\n",
        "            datetime.now(),\n",
        "            row[\"process_datetime\"]))\n",
        "\n",
        "    #New DF\n",
        "    new_error_df = spark.createDataFrame(rdd_errors, schema=lsmw_ziusachobjtype_schema)\n",
        "\n",
        "    #Add partition to parquet file\n",
        "    new_error_df.write.mode('append').partitionBy('process_datetime').parquet(f'{refined_path}/ziusachobjtype')\n",
        "\n",
        "    #Deliverable file\n",
        "    df_ziusachobjtype = new_error_df.select(\"EQUNR\", \"EQUART\")\n",
        "\n",
        "    generate_csv_lsmw(df_ziusachobjtype, 'ziusachobjtype')\n",
        "    rename_csv_file(\"ziusachobjtype\")\n",
        "\n",
        "    return True\n",
        "\n",
        "  except Exception as e:\n",
        "    print(f\"[lsmw_ziusachobjtype_script] Unexpected error: {str(e)}\")\n",
        "    return False\n"
      ]
    },
    {
      "cell_type": "markdown",
      "source": [
        "#ZIUSADISEQCHLOC: Equipment - Dismantle without changing the location"
      ],
      "metadata": {
        "id": "FHuzQXMEZzpA"
      }
    },
    {
      "cell_type": "code",
      "source": [
        "def lsmw_ziusadiseqchloc_script(df_input):\n",
        "\n",
        "  try:\n",
        "    lsmw_ziusadiseqchloc_schema = StructType([\n",
        "      StructField(\"id_data\", StringType(), True),\n",
        "      StructField(\"Equipment\", StringType(), True),\n",
        "      StructField(\"FunctionalLocation\", StringType(), True),\n",
        "      StructField(\"date_time\", TimestampType(), True),\n",
        "      StructField(\"process_datetime\", StringType(), True)\n",
        "    ])\n",
        "\n",
        "      # Crear y transformar filas de error directamente en un RDD\n",
        "    rdd_errors = df_input.rdd.map(\n",
        "        lambda row: (\n",
        "            row[\"id\"],\n",
        "            row[\"sap_equipment_number\"],\n",
        "            row[\"floc\"],\n",
        "            datetime.now(),\n",
        "            row[\"process_datetime\"]))\n",
        "\n",
        "    #New DF\n",
        "    new_error_df = spark.createDataFrame(rdd_errors, schema=lsmw_ziusadiseqchloc_schema)\n",
        "\n",
        "    #Add partition to parquet file\n",
        "    new_error_df.write.mode('append').partitionBy('process_datetime').parquet(f'{refined_path}/ziusadiseqchloc')\n",
        "\n",
        "    #Deliverable file\n",
        "    df_ziusadiseqchloc = new_error_df.select(\"Equipment\", \"FunctionalLocation\")\n",
        "\n",
        "    generate_csv_lsmw(df_ziusadiseqchloc, 'ziusadiseqchloc')\n",
        "    rename_csv_file(\"ziusadiseqchloc\")\n",
        "\n",
        "    return True\n",
        "\n",
        "  except Exception as e:\n",
        "    print(f\"[lsmw_ziusadiseqchloc_script] Unexpected error: {str(e)}\")\n",
        "    return False"
      ],
      "metadata": {
        "id": "NHqajJ-wGltT"
      },
      "execution_count": null,
      "outputs": []
    },
    {
      "cell_type": "markdown",
      "source": [
        "#ZIUSAEQIDISMANT: Dismantle Equip - INAC DLFL\n"
      ],
      "metadata": {
        "id": "zK9JGYY4Z4hs"
      }
    },
    {
      "cell_type": "code",
      "source": [
        "def lsmw_ziusaeqidismant_script(df_input):\n",
        "\n",
        "  try:\n",
        "    lsmw_ziusaeqidismant_schema = StructType([\n",
        "      StructField(\"id_data\", StringType(), True),\n",
        "      StructField(\"Equipment\", StringType(), True),\n",
        "      StructField(\"date_time\", TimestampType(), True),\n",
        "      StructField(\"process_datetime\", StringType(), True)\n",
        "    ])\n",
        "\n",
        "      # Crear y transformar filas de error directamente en un RDD\n",
        "    rdd_errors = df_input.rdd.map(\n",
        "        lambda row: (\n",
        "            row[\"id\"],\n",
        "            row[\"sap_equipment_number\"],\n",
        "            datetime.now(),\n",
        "            row[\"process_datetime\"]))\n",
        "\n",
        "    #New DF\n",
        "    new_error_df = spark.createDataFrame(rdd_errors, schema=lsmw_ziusaeqidismant_schema)\n",
        "\n",
        "    #Add partition to parquet file\n",
        "    new_error_df.write.mode('append').partitionBy('process_datetime').parquet(f'{refined_path}/ziusaeqidismant')\n",
        "\n",
        "    #Deliverable file\n",
        "    df_ziusaeqidismant = new_error_df.select(\"Equipment\")\n",
        "\n",
        "    generate_csv_lsmw(df_ziusaeqidismant, 'ziusaeqidismant')\n",
        "    rename_csv_file(\"ziusaeqidismant\")\n",
        "\n",
        "    return True\n",
        "\n",
        "  except Exception as e:\n",
        "    print(f\"[lsmw_ziusaeqidismant_script] Unexpected error: {str(e)}\")\n",
        "    return False"
      ],
      "metadata": {
        "id": "g1CxV9biH3nb"
      },
      "execution_count": null,
      "outputs": []
    },
    {
      "cell_type": "markdown",
      "source": [
        "#ZIUSACRKTYPEQ: Create Equipment Category K from Reference\n"
      ],
      "metadata": {
        "id": "KCDNogjjZ7fL"
      }
    },
    {
      "cell_type": "code",
      "source": [
        "def lsmw_ziusacrktypeq_script(df_input):\n",
        "\n",
        "  try:\n",
        "\n",
        "    lsmw_ziusacrktypeq_schema = StructType([\n",
        "      StructField(\"id_data\", StringType(), True),\n",
        "      StructField(\"Equipment category\", StringType(), True),\n",
        "      StructField(\"Reference Equipment Number\", StringType(), True),\n",
        "      StructField(\"Start-up Date of the Technical Object\", DateType(), True),\n",
        "      StructField(\"Year of construction\", StringType(), True),\n",
        "      StructField(\"Month of construction\", StringType(), True),\n",
        "      StructField(\"Material Number\", StringType(), True),\n",
        "      StructField(\"Serial Number\", StringType(), True),\n",
        "      StructField(\"date_time\", TimestampType(), True),\n",
        "      StructField(\"process_datetime\", StringType(), True)])\n",
        "\n",
        "    rdd_errors = df_input.rdd.map(\n",
        "        lambda row: (\n",
        "            row[\"id\"],\n",
        "            row[\"equipment_category\"],\n",
        "            row[\"sap_equipment_number\"],\n",
        "            row[\"start_up_date\"],\n",
        "            row[\"construction_year\"],\n",
        "            row[\"construction_month\"],\n",
        "            'D00000012',\n",
        "            get_datetime_now_as_serial_number(),\n",
        "            # row[\"manufacturer_serial_number\"],\n",
        "            datetime.now(),\n",
        "            row[\"process_datetime\"]))\n",
        "\n",
        "    #New DF\n",
        "    new_error_df = spark.createDataFrame(rdd_errors, schema=lsmw_ziusacrktypeq_schema)\n",
        "\n",
        "    #Add partition to parquet file\n",
        "    new_error_df.write.mode('append').partitionBy('process_datetime').parquet(f'{refined_path}/ziusacrktypeq')\n",
        "\n",
        "    #Deliverable file\n",
        "    df_ziusacrktypeq = new_error_df.select(\"Equipment category\", \"Reference Equipment Number\", \"Start-up Date of the Technical Object\",\n",
        "                                          \"Year of construction\", \"Month of construction\", \"Material Number\", \"Serial Number\")\n",
        "\n",
        "    df_ziusacrktypeq = df_ziusacrktypeq.withColumn(\"Reference Equipment Number\",\n",
        "                                                  when(col(\"Reference Equipment Number\") == \"0\", lit(\"TBD\"))\n",
        "                                                  .otherwise(col(\"Reference Equipment Number\")))\n",
        "\n",
        "    generate_csv_lsmw(df_ziusacrktypeq, 'ziusacrktypeq')\n",
        "    rename_csv_file(\"ziusacrktypeq\")\n",
        "\n",
        "    return True\n",
        "\n",
        "  except Exception as e:\n",
        "    print(f\"[lsmw_ziusacrktypeq_script] Unexpected error: {str(e)}\")\n",
        "    return False"
      ],
      "metadata": {
        "id": "t-nI0VP1Infu"
      },
      "execution_count": null,
      "outputs": []
    },
    {
      "cell_type": "code",
      "source": [
        "# lsmw_ziusacrktypeq_schema = StructType([\n",
        "#       StructField(\"id_data\", StringType(), True),\n",
        "#       StructField(\"functional_location\", StringType(), True),\n",
        "#       StructField(\"reference_equipment_number\", StringType(), True),\n",
        "#       StructField(\"object_type\", StringType(), True),\n",
        "#       StructField(\"equipment_category\", StringType(), True),\n",
        "#       StructField(\"start_up_date_of_the_technical_object\", DateType(), True),\n",
        "#       StructField(\"year_of_construction\", StringType(), True),\n",
        "#       StructField(\"month_of_construction\", StringType(), True),\n",
        "#       StructField(\"material_number\", StringType(), True),\n",
        "#       StructField(\"serial_number\", StringType(), True),\n",
        "#       StructField(\"date_time\", TimestampType(), True),\n",
        "#       StructField(\"process_datetime\", StringType(), True)\n",
        "\n",
        "#     rdd_errors = df_input.rdd.map(\n",
        "#         lambda row: (\n",
        "#             row[\"id\"],\n",
        "#             row[\"floc\"],\n",
        "#             row[\"sap_equipment_number\"],\n",
        "#             row[\"object_type\"],\n",
        "#             row[\"equipment_category\"],\n",
        "#             row[\"start_up_date\"],\n",
        "#             row[\"construction_year\"],\n",
        "#             row[\"construction_month\"],\n",
        "#             row[\"mid\"],\n",
        "#             row[\"manufacturer_serial_number\"],\n",
        "#             datetime.now(),\n",
        "#             row[\"process_datetime\"]))"
      ],
      "metadata": {
        "id": "oj0EUjEwUZjT"
      },
      "execution_count": null,
      "outputs": []
    },
    {
      "cell_type": "markdown",
      "source": [
        "#ZIUSAINACEQUI: Equipment - set INAC – Change Description and long text\n"
      ],
      "metadata": {
        "id": "jmWfOhP7Z99Y"
      }
    },
    {
      "cell_type": "code",
      "source": [
        "def lsmw_ziusainecequi_script(df_input):\n",
        "\n",
        "  try:\n",
        "\n",
        "    lsmw_lsmw_ziusainecequi_schema = StructType([\n",
        "      StructField(\"id_data\", StringType(), True),\n",
        "      StructField(\"Equipment\", StringType(), True),\n",
        "      StructField(\"Descr\", StringType(), True), #Optional\n",
        "      StructField(\"Long Text Desc\", StringType(), True), #Optional\n",
        "      StructField(\"date_time\", TimestampType(), True),\n",
        "      StructField(\"process_datetime\", StringType(), True)\n",
        "    ])\n",
        "\n",
        "    # Craete and transform records to RDD\n",
        "    rdd_errors = df_input.rdd.map(\n",
        "        lambda row: (\n",
        "            row[\"id\"],\n",
        "            row[\"sap_equipment_number\"],\n",
        "            row[\"description_of_object_type\"],\n",
        "            row[\"long_text\"],\n",
        "            datetime.now(),\n",
        "            row[\"process_datetime\"]))\n",
        "\n",
        "    #New DF\n",
        "    new_error_df = spark.createDataFrame(rdd_errors, schema=lsmw_lsmw_ziusainecequi_schema)\n",
        "\n",
        "    #Add partition to parquet file\n",
        "    new_error_df.write.mode('append').partitionBy('process_datetime').parquet(f'{refined_path}/ziusainecequi')\n",
        "\n",
        "    #Deliverable file\n",
        "    df_ziusainecequi = new_error_df.select(\"Equipment\", \"Descr\", \"Long Text Desc\")\n",
        "\n",
        "    df_ziusainecequi = df_ziusainecequi.withColumn(\"Long Text Desc\",\n",
        "                                                   when(col(\"Long Text Desc\").isNull() | (col(\"Long Text Desc\") == \"\") | (col(\"Long Text Desc\") == \"NaN\"),\n",
        "                                                   lit(\"Remove equipment from FLOC and do not transfer back into inventory\")).otherwise(col(\"Long Text Desc\")))\n",
        "\n",
        "    generate_csv_lsmw(df_ziusainecequi, 'ziusainecequi')\n",
        "    rename_csv_file(\"ziusainecequi\")\n",
        "\n",
        "    return True\n",
        "\n",
        "  except Exception as e:\n",
        "    print(f\"[lsmw_ziusainecequi_script] Unexpected error: {str(e)}\")\n",
        "    return False"
      ],
      "metadata": {
        "id": "ITggAa3JMYJh"
      },
      "execution_count": null,
      "outputs": []
    },
    {
      "cell_type": "markdown",
      "source": [
        "#ZIUSACREQWOREF Create Equipment without using reference"
      ],
      "metadata": {
        "id": "zNImcQKNZjrD"
      }
    },
    {
      "cell_type": "code",
      "source": [
        "def lsmw_ziusacreqworef_script(df_input):\n",
        "  try:\n",
        "\n",
        "    lsmw_ziusacreqworef_schema = StructType([\n",
        "      StructField(\"id_data\", StringType(), True),\n",
        "      StructField(\"Type\", StringType(), True), #Reqd\n",
        "      StructField(\"Description\", StringType(), True), #Reqd\n",
        "      StructField(\"StartUpDate\", DateType(), True), #(MMDDYYYY) Reqd\n",
        "      StructField(\"ConstructionYear\", StringType(), True),\n",
        "      StructField(\"ConstructionMonth\", StringType(), True),\n",
        "      StructField(\"ObjectType\", StringType(), True), #Reqd\n",
        "      StructField(\"Inventory\", StringType(), True),\n",
        "      StructField(\"ManufSerialNo\", StringType(), True),\n",
        "      StructField(\"Manufacturer\", StringType(), True),\n",
        "      StructField(\"Model\", StringType(), True),\n",
        "      StructField(\"MaintenancePlant\", StringType(), True), #Reqd\n",
        "      StructField(\"SortField\", StringType(), True),\n",
        "      StructField(\"FLOC\", StringType(), True),\n",
        "      StructField(\"date_time\", TimestampType(), True),\n",
        "      StructField(\"process_datetime\", StringType(), True)])\n",
        "\n",
        "    rdd_errors = df_input.rdd.map(\n",
        "        lambda row: (\n",
        "          row[\"id\"],\n",
        "          row[\"equipment_category\"],\n",
        "          row[\"description_of_object_type\"],\n",
        "          row[\"start_up_date\"],\n",
        "          row[\"construction_year\"],\n",
        "          row[\"construction_month\"],\n",
        "          row[\"object_type\"],\n",
        "          \"TBD\", #Inventory\n",
        "          row[\"manufacturer_serial_number\"],\n",
        "          row[\"manufacturer\"],\n",
        "          row[\"model_number\"], #Could be not a number as showN in LSMW Scripts pptx (VERIZON)\n",
        "          \"TBD\", #MaintenancePlant\n",
        "          row[\"sort_field_pole_number\"],\n",
        "          row[\"floc\"],\n",
        "          datetime.now(),\n",
        "          row[\"process_datetime\"]))\n",
        "\n",
        "    #New DF\n",
        "    new_error_df = spark.createDataFrame(rdd_errors, schema=lsmw_ziusacreqworef_schema)\n",
        "\n",
        "    new_error_df.write.mode('append').partitionBy(\"process_datetime\").parquet(f\"{refined_path}/ziusacreqworef\")\n",
        "\n",
        "    df_ziusacreqworef = new_error_df.select(\"Type\", \"Description\", \"StartUpDate\", \"ConstructionYear\", \"ConstructionMonth\", \"ObjectType\",\n",
        "                                            \"Inventory\", \"ManufSerialNo\", \"Manufacturer\", \"Model\", \"MaintenancePlant\", \"SortField\" ,\"FLOC\")\n",
        "\n",
        "    #df_ziusacreqworef = df_ziusacreqworef.withColumn(\"ConstructionMonth\", col(\"ConstructionMonth\").cast(\"int\")).cast(\"string\")) Shows with 1 digit\n",
        "\n",
        "    df_ziusacreqworef = new_error_df.withColumn(\"StartUpDate\", date_format(col(\"StartUpDate\"), \"MMddyyyy\"))\n",
        "\n",
        "    df_ziusacreqworef = df_ziusacreqworef.withColumn(\"Description\", when((col(\"Description\") == \"N/A\") | (col(\"Description\") == \"NaN\"), lit(\"\")).otherwise(col(\"Description\")))\n",
        "    df_ziusacreqworef = df_ziusacreqworef.withColumn(\"ManufSerialNo\", when((col(\"ManufSerialNo\") == \"N/A\") | (col(\"ManufSerialNo\") == \"NaN\"), lit(\"\")).otherwise(col(\"ManufSerialNo\")))\n",
        "    df_ziusacreqworef = df_ziusacreqworef.withColumn(\"Manufacturer\", when((col(\"Manufacturer\") == \"N/A\") | (col(\"Manufacturer\") == \"NaN\"), lit(\"\")).otherwise(col(\"Manufacturer\")))\n",
        "    df_ziusacreqworef = df_ziusacreqworef.withColumn(\"Model\", when((col(\"Model\") == \"N/A\") | (col(\"Model\") == \"NaN\"), lit(\"\")).otherwise(col(\"Model\")))\n",
        "    df_ziusacreqworef = df_ziusacreqworef.withColumn(\"SortField\", when((col(\"SortField\") == \"Need Pole #\") | (col(\"SortField\") == \"N/A\") | (col(\"SortField\") == \"NaN\"), lit(\"\"))\n",
        "                                                    .otherwise(col(\"SortField\")))\n",
        "\n",
        "    #Generate LSMW file with rows which don't have empty values for mandatory columns.\n",
        "    df_ziusacreqworef_without_empty_values = df_ziusacreqworef.filter(\n",
        "      (col(\"Description\") != \"\") &\n",
        "      (col(\"StartUpDate\") != \"\") &\n",
        "      (col(\"FLOC\") != \"\") &\n",
        "      (col(\"SortField\") != \"\"))\n",
        "\n",
        "    # df_ziusacreqworef_without_empty_values = df_ziusacreqworef_without_empty_values.select(\"Type\", \"Description\", \"StartUpDate\", \"ConstructionYear\", \"ConstructionMonth\", \"ObjectType\", \"Inventory\",\n",
        "    #                                                                                        \"ManufSerialNo\", \"Manufacturer\", \"Model\", \"MaintenancePlant\", \"SortField\", \"FLOC\")\n",
        "\n",
        "    generate_csv_lsmw(df_ziusacreqworef_without_empty_values, 'ziusacreqworef')\n",
        "    rename_csv_file(\"ziusacreqworef\")\n",
        "\n",
        "    return True\n",
        "\n",
        "  except Exception as e:\n",
        "    print(f\"[lsmw_ziusacreqworef_script] Unexpected error: \\n\")\n",
        "    traceback.print_exc()\n",
        "    return False"
      ],
      "metadata": {
        "id": "QiUey_GFZdcQ"
      },
      "execution_count": 10,
      "outputs": []
    },
    {
      "cell_type": "markdown",
      "source": [
        "#ZIUAFL002 Long Text for Equipment and FLOC"
      ],
      "metadata": {
        "id": "P-6OppPWPkzo"
      }
    },
    {
      "cell_type": "code",
      "source": [
        "def lsmw_ziuafl002_script(df_input):\n",
        "\n",
        "  try:\n",
        "\n",
        "    lsmw_ziuafl002_schema = StructType([\n",
        "        StructField(\"id_data\", StringType(), True),\n",
        "        StructField(\"FLOC\", StringType(), True),\n",
        "        StructField(\"Line Number\", StringType(), True),\n",
        "        StructField(\"Long Text\", StringType(), True),\n",
        "        StructField(\"date_time\", TimestampType(), True),\n",
        "        StructField(\"process_datetime\", StringType(), True)\n",
        "    ])\n",
        "\n",
        "    rdd_errors = df_input.rdd.map(\n",
        "        lambda row: (\n",
        "            row[\"id\"],\n",
        "            row[\"floc\"],\n",
        "            row[\"nyseg_line_number\"],\n",
        "            row[\"long_text\"],\n",
        "            datetime.now(),\n",
        "            row[\"process_datetime\"]))\n",
        "\n",
        "    new_error_df = spark.createDataFrame(rdd_errors, schema=lsmw_ziuafl002_schema)\n",
        "\n",
        "    new_error_df.write.mode('append').partitionBy(\"process_datetime\").parquet(f\"{refined_path}/ziuafl002\")\n",
        "\n",
        "    df_ziuafl002 = new_error_df.select(\"FLOC\", \"Line Number\", \"Long Text\")\n",
        "\n",
        "    df_ziuafl002 = df_ziuafl002.withColumn(\"Long Text\", when((col(\"Long Text\") == \"N/A\") | (col(\"Long Text\") == \"NaN\"), lit(\"\")).otherwise(col(\"Long Text\")))\n",
        "    df_ziuafl002 = df_ziuafl002.withColumn(\"Line Number\", when((col(\"Line Number\") == \"N/A\") | (col(\"Line number\") == \"NaN\"), lit(\"\")).otherwise(col(\"Line Number\")))\n",
        "\n",
        "    generate_csv_lsmw(df_ziuafl002, 'ziuafl002')\n",
        "    rename_csv_file(\"ziuafl002\")\n",
        "\n",
        "    return True\n",
        "\n",
        "  except Exception as e:\n",
        "    print(f\"[lsmw_ziuafl002_script] Unexpected error: \\n\")\n",
        "    traceback.print_exc()\n",
        "    return False"
      ],
      "metadata": {
        "id": "nIviLdA7Pjuf"
      },
      "execution_count": 15,
      "outputs": []
    },
    {
      "cell_type": "markdown",
      "source": [
        "#ZIUAFL003 Characteristics for equipment and FLOC"
      ],
      "metadata": {
        "id": "uYsnS72-S6aG"
      }
    },
    {
      "cell_type": "code",
      "source": [
        "def lsmw_ziuafl003_script(df_input):\n",
        "\n",
        "  try:\n",
        "\n",
        "    lsmw_ziuafl003_schema = StructType([\n",
        "        StructField(\"id_data\", StringType(), True),\n",
        "        StructField(\"FLOC\", StringType(), True),\n",
        "        StructField(\"Class\", StringType(), True),\n",
        "        StructField(\"Characteristic\", StringType(), True),\n",
        "        StructField(\"Char Value\", StringType(), True),\n",
        "        StructField(\"date_time\", TimestampType(), True),\n",
        "        StructField(\"process_datetime\", StringType(), True)\n",
        "    ])\n",
        "\n",
        "    rdd_errors = df_input.rdd.map(\n",
        "        lambda row: (\n",
        "            row[\"id\"],\n",
        "            row[\"floc\"],\n",
        "            row[\"object_type\"],\n",
        "            row[\"description_of_object_type\"],\n",
        "            \"\", #Char Value TBD\n",
        "            datetime.now(),\n",
        "            row[\"process_datetime\"]))\n",
        "\n",
        "    new_error_df = spark.createDataFrame(rdd_errors, schema=lsmw_ziuafl003_schema)\n",
        "\n",
        "    new_error_df.write.mode(\"append\").partitionBy(\"process_datetime\").parquet(f\"{refined_path}/ziuasfl003\")\n",
        "\n",
        "    df_ziuafl003 = new_error_df.select(\"FLOC\", \"Class\", \"Characteristic\", \"Char Value\")\n",
        "\n",
        "    df_ziuafl003 = df_ziuafl003.withColumn(\"Characteristic\", when((col(\"Characteristic\") == \"N/A\") | (col(\"Characteristic\") == \"NaN\"), lit(\"\")).otherwise(col(\"Characteristic\")))\n",
        "\n",
        "    generate_csv_lsmw(df_ziuafl003, 'ziuafl003')\n",
        "    rename_csv_file(\"ziuafl003\")\n",
        "\n",
        "    return True\n",
        "\n",
        "  except Exception as e:\n",
        "    print(f\"[lsmw_ziuafl003_script] Unexpected error: \\n\")\n",
        "    traceback.print_exc()\n",
        "    return False\n"
      ],
      "metadata": {
        "id": "5zqsK-ClTCC9"
      },
      "execution_count": 17,
      "outputs": []
    }
  ]
}